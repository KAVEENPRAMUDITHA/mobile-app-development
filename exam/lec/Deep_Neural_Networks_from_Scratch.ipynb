{
  "nbformat": 4,
  "nbformat_minor": 0,
  "metadata": {
    "colab": {
      "provenance": []
    },
    "kernelspec": {
      "name": "python3",
      "display_name": "Python 3"
    },
    "language_info": {
      "name": "python"
    }
  },
  "cells": [
    {
      "cell_type": "markdown",
      "source": [
        "# Deep Neural Networks from Scratch\n",
        "\n",
        "## Introduction\n",
        "This tutorial teaches you to build deep neural networks from scratch using only NumPy. By the end, you'll understand how neural networks work at the lowest level.\n",
        "\n",
        "## Prerequisites\n",
        "- Basic Python knowledge\n",
        "- Understanding of matrices and derivatives (calculus)\n",
        "- Jupyter notebook environment"
      ],
      "metadata": {
        "id": "TiTqrN8aavcf"
      }
    },
    {
      "cell_type": "markdown",
      "source": [
        "## Part 1: Setting Up and Understanding the Data\n",
        "\n",
        "### Cell 1: Import Libraries"
      ],
      "metadata": {
        "id": "bC2KREm4a-Pt"
      }
    },
    {
      "cell_type": "code",
      "execution_count": null,
      "metadata": {
        "id": "YOXirindauGz"
      },
      "outputs": [],
      "source": [
        "import numpy as np\n",
        "import matplotlib.pyplot as plt"
      ]
    },
    {
      "cell_type": "markdown",
      "source": [
        "**Explanation:**\n",
        "- Line 1: Import NumPy for numerical computations and matrix operations\n",
        "- Line 2: Import matplotlib for visualizing our data and results"
      ],
      "metadata": {
        "id": "A67WXgnmbKmZ"
      }
    },
    {
      "cell_type": "markdown",
      "source": [
        "### Cell 2: Set Random Seed"
      ],
      "metadata": {
        "id": "XvC4B05ybS82"
      }
    },
    {
      "cell_type": "code",
      "source": [
        "np.random.seed(42)"
      ],
      "metadata": {
        "id": "3zH1V-y0_uCX"
      },
      "execution_count": null,
      "outputs": []
    },
    {
      "cell_type": "code",
      "source": [
        "# Example: 2x3 array\n",
        "random_array = np.random.rand(2, 3)\n",
        "print(random_array)\n"
      ],
      "metadata": {
        "colab": {
          "base_uri": "https://localhost:8080/"
        },
        "id": "dvTR1P-kABBB",
        "outputId": "0135f898-6995-445c-894c-c3da2a04baf0"
      },
      "execution_count": null,
      "outputs": [
        {
          "output_type": "stream",
          "name": "stdout",
          "text": [
            "[[0.53182759 0.63440096 0.84943179]\n",
            " [0.72445532 0.61102351 0.72244338]]\n"
          ]
        }
      ]
    },
    {
      "cell_type": "code",
      "source": [
        "# Set the seed for reproducibility\n",
        "np.random.seed(123)\n",
        "\n",
        "# Generate a 2x4 array of random integers between 0 (inclusive) and 10 (exclusive)\n",
        "seeded_random_array = np.random.randint(0, 10, size=(2, 4))\n",
        "\n",
        "print(seeded_random_array)"
      ],
      "metadata": {
        "colab": {
          "base_uri": "https://localhost:8080/"
        },
        "id": "ktomHLToAz8P",
        "outputId": "92d9e7fb-d216-490e-ab62-f8cabbc34950"
      },
      "execution_count": null,
      "outputs": [
        {
          "output_type": "stream",
          "name": "stdout",
          "text": [
            "[[2 2 6 1]\n",
            " [3 9 6 1]]\n"
          ]
        }
      ]
    },
    {
      "cell_type": "markdown",
      "source": [
        "**Explanation:**\n",
        "- Line 1: Set random seed to ensure reproducible results across different runs"
      ],
      "metadata": {
        "id": "dhk1cbBTbZnj"
      }
    },
    {
      "cell_type": "markdown",
      "source": [
        "### Cell 3: Create Simple Dataset"
      ],
      "metadata": {
        "id": "YCrGOoXvbeir"
      }
    },
    {
      "cell_type": "code",
      "source": [
        "X = np.array([[0, 0], [0, 1], [1, 0], [1, 1]])\n",
        "y = np.array([[0], [1], [1], [0]])"
      ],
      "metadata": {
        "id": "_k6NGqr0bjt8"
      },
      "execution_count": null,
      "outputs": []
    },
    {
      "cell_type": "markdown",
      "source": [
        "**Explanation:**\n",
        "- Line 1: Create input data X with 4 samples, each having 2 features (XOR problem)\n",
        "- Line 2: Create target labels y - this is the XOR truth table (output is 1 when inputs differ)"
      ],
      "metadata": {
        "id": "j00sk2W2bquT"
      }
    },
    {
      "cell_type": "markdown",
      "source": [
        "### Cell 4: Examine Data Shape"
      ],
      "metadata": {
        "id": "k5eXgWr4bzOF"
      }
    },
    {
      "cell_type": "code",
      "source": [
        "print(f\"Input shape: {X.shape}\")\n",
        "print(f\"Output shape: {y.shape}\")"
      ],
      "metadata": {
        "colab": {
          "base_uri": "https://localhost:8080/"
        },
        "id": "xVowAD47b21y",
        "outputId": "188118ca-4b30-4dc7-92bc-92ccc0c38685"
      },
      "execution_count": null,
      "outputs": [
        {
          "output_type": "stream",
          "name": "stdout",
          "text": [
            "Input shape: (4, 2)\n",
            "Output shape: (4, 1)\n"
          ]
        }
      ]
    },
    {
      "cell_type": "markdown",
      "source": [
        "**Explanation:**\n",
        "- Line 1: Print the shape of input data (4 samples × 2 features)\n",
        "- Line 2: Print the shape of output data (4 samples × 1 output)"
      ],
      "metadata": {
        "id": "UJFZ1lP7b8Oy"
      }
    },
    {
      "cell_type": "markdown",
      "source": [
        "### Cell 5: Visualize the Data"
      ],
      "metadata": {
        "id": "a4tlbJRTcAxP"
      }
    },
    {
      "cell_type": "code",
      "source": [
        "plt.scatter(X[:, 0], X[:, 1], c=y.ravel(), cmap='viridis', s=100)\n",
        "plt.title(\"XOR Problem Dataset\")\n",
        "plt.xlabel(\"Feature 1\")"
      ],
      "metadata": {
        "colab": {
          "base_uri": "https://localhost:8080/",
          "height": 489
        },
        "id": "Zu-NL071cKEd",
        "outputId": "41315b67-b805-466c-d535-898a44a299bf"
      },
      "execution_count": null,
      "outputs": [
        {
          "output_type": "execute_result",
          "data": {
            "text/plain": [
              "Text(0.5, 0, 'Feature 1')"
            ]
          },
          "metadata": {},
          "execution_count": 70
        },
        {
          "output_type": "display_data",
          "data": {
            "text/plain": [
              "<Figure size 640x480 with 1 Axes>"
            ],
            "image/png": "[encoded data removed]"
          },
          "metadata": {}
        }
      ]
    },
    {
      "cell_type": "markdown",
      "source": [
        "**Explanation:**\n",
        "- Line 1: Create scatter plot where colors represent different classes (0=dark, 1=bright)\n",
        "- Line 2: Add title to explain this is the XOR problem\n",
        "- Line 3: Label the x-axis as Feature 1"
      ],
      "metadata": {
        "id": "MjE3NVMXccAr"
      }
    },
    {
      "cell_type": "markdown",
      "source": [
        "## Part 2: Activation Functions"
      ],
      "metadata": {
        "id": "e_kp2BOXcn-h"
      }
    },
    {
      "cell_type": "markdown",
      "source": [
        "### Cell 6: Define Sigmoid Function"
      ],
      "metadata": {
        "id": "6BcrN-nZcowj"
      }
    },
    {
      "cell_type": "code",
      "source": [
        "def sigmoid(x):\n",
        "    return 1 / (1 + np.exp(-x))"
      ],
      "metadata": {
        "id": "wFXyZAoucjJd"
      },
      "execution_count": null,
      "outputs": []
    },
    {
      "cell_type": "markdown",
      "source": [
        "**Explanation:**\n",
        "- Line 1: Define function that takes any real number and squashes it between 0 and 1\n",
        "- Line 2: This is the mathematical formula: σ(x) = 1/(1+e^(-x))"
      ],
      "metadata": {
        "id": "VDmKgfslc1ae"
      }
    },
    {
      "cell_type": "markdown",
      "source": [
        "### Cell 7: Define Sigmoid Derivative"
      ],
      "metadata": {
        "id": "UNjUPVYLc-sn"
      }
    },
    {
      "cell_type": "code",
      "source": [
        "def sigmoid_derivative(x):\n",
        "    return sigmoid(x) * (1 - sigmoid(x))"
      ],
      "metadata": {
        "id": "d5vzx7Edc0aV"
      },
      "execution_count": null,
      "outputs": []
    },
    {
      "cell_type": "markdown",
      "source": [
        "**Explanation:**\n",
        "- Line 1: Define the derivative of sigmoid function (needed for backpropagation)\n",
        "- Line 2: Mathematical property: σ'(x) = σ(x) × (1 - σ(x))"
      ],
      "metadata": {
        "id": "ir9tla_5dHI4"
      }
    },
    {
      "cell_type": "markdown",
      "source": [
        "### Cell 8: Test Activation Functions"
      ],
      "metadata": {
        "id": "iJyRS2QLdNSp"
      }
    },
    {
      "cell_type": "code",
      "source": [
        "test_values = np.array([-2, -1, 0, 1, 2])\n",
        "print(f\"Sigmoid: {sigmoid(test_values)}\")\n",
        "print(f\"Derivative: {sigmoid_derivative(test_values)}\")"
      ],
      "metadata": {
        "colab": {
          "base_uri": "https://localhost:8080/"
        },
        "id": "0tuc82kXdIhN",
        "outputId": "6ce73a61-cb51-48ea-a1f7-ef9ec810ca27"
      },
      "execution_count": null,
      "outputs": [
        {
          "output_type": "stream",
          "name": "stdout",
          "text": [
            "Sigmoid: [0.11920292 0.26894142 0.5        0.73105858 0.88079708]\n",
            "Derivative: [0.10499359 0.19661193 0.25       0.19661193 0.10499359]\n"
          ]
        }
      ]
    },
    {
      "cell_type": "markdown",
      "source": [
        "**Explanation:**\n",
        "- Line 1: Create test values to see how our functions behave\n",
        "- Line 2: Print sigmoid outputs (should be between 0 and 1)\n",
        "- Line 3: Print derivative values (should be positive). x=0 Has the Maximum Derivative. it measures how steeply the sigmoid curve is changing at each point.\n",
        "\n",
        "At x = 0:\n",
        "\n",
        "σ(0) = 0.5\n",
        "σ'(0) = 0.5 × (1 - 0.5) = 0.5 × 0.5 = 0.25\n",
        "Maximum because both factors are equal and maximized\n",
        "\n",
        "\n"
      ],
      "metadata": {
        "id": "1V2jy3ugdYqN"
      }
    },
    {
      "cell_type": "markdown",
      "source": [
        "## Part 3: Neural Network Architecture"
      ],
      "metadata": {
        "id": "M3XZLT6rdcjs"
      }
    },
    {
      "cell_type": "markdown",
      "source": [
        "### Cell 9: Define Network Parameters"
      ],
      "metadata": {
        "id": "MpWS6VpsdfEc"
      }
    },
    {
      "cell_type": "code",
      "source": [
        "input_size = 2\n",
        "hidden_size = 3\n",
        "output_size = 1"
      ],
      "metadata": {
        "id": "cp3jAgijdiLh"
      },
      "execution_count": null,
      "outputs": []
    },
    {
      "cell_type": "markdown",
      "source": [
        "**Explanation:**\n",
        "- Line 1: Number of input features (2 for our XOR problem)\n",
        "- Line 2: Number of neurons in hidden layer (3 should be enough for XOR)\n",
        "- Line 3: Number of output neurons (1 for binary classification)"
      ],
      "metadata": {
        "id": "MZqDIMrSdmUn"
      }
    },
    {
      "cell_type": "markdown",
      "source": [
        "### Cell 10: Initialize Weights for Input to Hidden Layer"
      ],
      "metadata": {
        "id": "wY2bKgXSdqKv"
      }
    },
    {
      "cell_type": "code",
      "source": [
        "W1 = np.random.randn(input_size, hidden_size) * 0.5\n",
        "b1 = np.zeros((1, hidden_size))"
      ],
      "metadata": {
        "id": "2tt8drLfdsvl"
      },
      "execution_count": null,
      "outputs": []
    },
    {
      "cell_type": "markdown",
      "source": [
        "**Explanation:**\n",
        "- Line 1: Create weight matrix connecting inputs to hidden layer (2×3), scaled by 0.5\n",
        "- Line 2: Initialize biases for hidden layer to zero (1×3)"
      ],
      "metadata": {
        "id": "DjO0C3ardznv"
      }
    },
    {
      "cell_type": "markdown",
      "source": [
        "### Cell 11: Initialize Weights for Hidden to Output Layer"
      ],
      "metadata": {
        "id": "kn0oOLUwd7UU"
      }
    },
    {
      "cell_type": "code",
      "source": [
        "W2 = np.random.randn(hidden_size, output_size) * 0.5\n",
        "b2 = np.zeros((1, output_size))"
      ],
      "metadata": {
        "id": "j-Z9wirCd-X5"
      },
      "execution_count": null,
      "outputs": []
    },
    {
      "cell_type": "markdown",
      "source": [
        "**Explanation:**\n",
        "- Line 1: Create weight matrix connecting hidden to output layer (3×1), scaled by 0.5\n",
        "- Line 2: Initialize bias for output layer to zero (1×1)"
      ],
      "metadata": {
        "id": "vUCPGXe8eCwU"
      }
    },
    {
      "cell_type": "markdown",
      "source": [
        "### Cell 12: Check Weight Shapes"
      ],
      "metadata": {
        "id": "MBEOD2_0eGwK"
      }
    },
    {
      "cell_type": "code",
      "source": [
        "print(f\"W1 shape: {W1.shape}, b1 shape: {b1.shape}\")\n",
        "print(f\"W2 shape: {W2.shape}, b2 shape: {b2.shape}\")"
      ],
      "metadata": {
        "colab": {
          "base_uri": "https://localhost:8080/"
        },
        "id": "D7DAvZEEeJz_",
        "outputId": "6cb9328a-1b9c-4bb2-839e-cbab94e5f1dc"
      },
      "execution_count": null,
      "outputs": [
        {
          "output_type": "stream",
          "name": "stdout",
          "text": [
            "W1 shape: (2, 3), b1 shape: (1, 3)\n",
            "W2 shape: (3, 1), b2 shape: (1, 1)\n"
          ]
        }
      ]
    },
    {
      "cell_type": "markdown",
      "source": [
        "**Explanation:**\n",
        "- Line 1: Verify shapes of first layer weights and biases\n",
        "- Line 2: Verify shapes of second layer weights and biases"
      ],
      "metadata": {
        "id": "eWYqqm7xeO9x"
      }
    },
    {
      "cell_type": "markdown",
      "source": [
        "## Part 4: Forward Propagation"
      ],
      "metadata": {
        "id": "sqv5GvoCeSfu"
      }
    },
    {
      "cell_type": "markdown",
      "source": [
        "### Cell 13: Forward Pass - Hidden Layer"
      ],
      "metadata": {
        "id": "iw_uxkfxeVZK"
      }
    },
    {
      "cell_type": "code",
      "source": [
        "z1 = np.dot(X, W1) + b1\n",
        "a1 = sigmoid(z1)"
      ],
      "metadata": {
        "id": "YvUy-QpfeZCP"
      },
      "execution_count": null,
      "outputs": []
    },
    {
      "cell_type": "markdown",
      "source": [
        "**Explanation:**\n",
        "- Line 1: Compute linear combination: z1 = X·W1 + b1 (before activation)\n",
        "- Line 2: Apply sigmoid activation to get hidden layer outputs"
      ],
      "metadata": {
        "id": "6NSXC3Qted-I"
      }
    },
    {
      "cell_type": "markdown",
      "source": [
        "### Cell 14: Forward Pass - Output Layer"
      ],
      "metadata": {
        "id": "wZNXBzxbehJp"
      }
    },
    {
      "cell_type": "code",
      "source": [
        "z2 = np.dot(a1, W2) + b2\n",
        "a2 = sigmoid(z2)"
      ],
      "metadata": {
        "id": "-CqINkvseoVw"
      },
      "execution_count": null,
      "outputs": []
    },
    {
      "cell_type": "markdown",
      "source": [
        "**Explanation:**\n",
        "- Line 1: Compute linear combination for output layer: z2 = a1·W2 + b2\n",
        "- Line 2: Apply sigmoid to get final predictions (between 0 and 1)"
      ],
      "metadata": {
        "id": "6xsC0ux5ett9"
      }
    },
    {
      "cell_type": "markdown",
      "source": [
        "### Cell 15: Check Forward Pass Results"
      ],
      "metadata": {
        "id": "hU8EmyiWey8Y"
      }
    },
    {
      "cell_type": "code",
      "source": [
        "print(f\"Hidden layer output shape: {a1.shape}\")\n",
        "print(f\"Final predictions: {a2.ravel()}\")\n",
        "print(f\"Target values: {y.ravel()}\")"
      ],
      "metadata": {
        "colab": {
          "base_uri": "https://localhost:8080/"
        },
        "id": "jZW9VhDQe26e",
        "outputId": "81749cb8-973d-4f32-919f-df206d313161"
      },
      "execution_count": null,
      "outputs": [
        {
          "output_type": "stream",
          "name": "stdout",
          "text": [
            "Hidden layer output shape: (4, 3)\n",
            "Final predictions: [0.61521647 0.64757458 0.62071863 0.65098344]\n",
            "Target values: [0 1 1 0]\n"
          ]
        }
      ]
    },
    {
      "cell_type": "markdown",
      "source": [
        "**Explanation:**\n",
        "- Line 1: Verify hidden layer produces correct shape (4×3)\n",
        "- Line 2: Show current predictions (probably random since weights are random)\n",
        "- Line 3: Show what we want the network to learn"
      ],
      "metadata": {
        "id": "m6Vjho7Ke8fe"
      }
    },
    {
      "cell_type": "markdown",
      "source": [
        "## Part 5: Cost Function"
      ],
      "metadata": {
        "id": "oZTednRVfBDB"
      }
    },
    {
      "cell_type": "markdown",
      "source": [
        "### Cell 16: Define Mean Squared Error"
      ],
      "metadata": {
        "id": "yFltz5dEfEWI"
      }
    },
    {
      "cell_type": "code",
      "source": [
        "def compute_cost(predictions, targets):\n",
        "    return np.mean((predictions - targets) ** 2)"
      ],
      "metadata": {
        "id": "zCGvoDJffG9w"
      },
      "execution_count": null,
      "outputs": []
    },
    {
      "cell_type": "markdown",
      "source": [
        "**Explanation:**\n",
        "- Line 1: Define function that calculates how far our predictions are from targets\n",
        "- Line 2: MSE formula: average of squared differences between predictions and actual values"
      ],
      "metadata": {
        "id": "CVKkMrRKfO4R"
      }
    },
    {
      "cell_type": "markdown",
      "source": [
        "### Cell 17: Calculate Initial Cost"
      ],
      "metadata": {
        "id": "vmq4buA8fTEU"
      }
    },
    {
      "cell_type": "code",
      "source": [
        "initial_cost = compute_cost(a2, y)\n",
        "print(f\"Initial cost: {initial_cost:.4f}\")"
      ],
      "metadata": {
        "colab": {
          "base_uri": "https://localhost:8080/"
        },
        "id": "3j5WXb0CfVqb",
        "outputId": "b2ac7889-4b9b-4843-9299-1c82938ff413"
      },
      "execution_count": null,
      "outputs": [
        {
          "output_type": "stream",
          "name": "stdout",
          "text": [
            "Initial cost: 0.2676\n"
          ]
        }
      ]
    },
    {
      "cell_type": "markdown",
      "source": [
        "**Explanation:**\n",
        "- Line 1: Calculate cost with random weights (should be high)\n",
        "- Line 2: Print the cost - this should decrease as we train"
      ],
      "metadata": {
        "id": "se5bPZsYfeLq"
      }
    },
    {
      "cell_type": "markdown",
      "source": [
        "## Part 6: Backpropagation"
      ],
      "metadata": {
        "id": "6Y2u5q69fhDH"
      }
    },
    {
      "cell_type": "code",
      "source": [
        "error_output = a2 - y\n",
        "delta_output = error_output * sigmoid_derivative(z2)"
      ],
      "metadata": {
        "id": "sDlHCKpbfkOU"
      },
      "execution_count": null,
      "outputs": []
    },
    {
      "cell_type": "markdown",
      "source": [
        "**Explanation:**\n",
        "- Line 1: Calculate how much our output is wrong (prediction - actual)\n",
        "- Line 2: Multiply error by derivative to get gradient for output layer"
      ],
      "metadata": {
        "id": "xzpCHv2Gfo1t"
      }
    },
    {
      "cell_type": "markdown",
      "source": [
        "### Cell 19: Hidden Layer Error (Backpropagation)"
      ],
      "metadata": {
        "id": "x8P1PLPJftDV"
      }
    },
    {
      "cell_type": "code",
      "source": [
        "error_hidden = np.dot(delta_output, W2.T)\n",
        "delta_hidden = error_hidden * sigmoid_derivative(z1)"
      ],
      "metadata": {
        "id": "uF5OTWijfvhh"
      },
      "execution_count": null,
      "outputs": []
    },
    {
      "cell_type": "markdown",
      "source": [
        "**Explanation:**\n",
        "- Line 1: Propagate error backwards using weights (chain rule of calculus)\n",
        "- Line 2: Apply derivative of activation function to get hidden layer gradients"
      ],
      "metadata": {
        "id": "emADQNa2h9a5"
      }
    },
    {
      "cell_type": "markdown",
      "source": [
        "### Cell 20: Calculate Weight Gradients"
      ],
      "metadata": {
        "id": "NJi5jh1Upvt-"
      }
    },
    {
      "cell_type": "code",
      "source": [
        "dW2 = np.dot(a1.T, delta_output) / X.shape[0]\n",
        "db2 = np.mean(delta_output, axis=0, keepdims=True)"
      ],
      "metadata": {
        "id": "0QEQXO1DpwZS"
      },
      "execution_count": null,
      "outputs": []
    },
    {
      "cell_type": "markdown",
      "source": [
        "**Explanation:**\n",
        "- Line 1: Calculate gradient for output weights (average over all samples)\n",
        "- Line 2: Calculate gradient for output bias (average of deltas)"
      ],
      "metadata": {
        "id": "JUjNzOZ7pz5K"
      }
    },
    {
      "cell_type": "markdown",
      "source": [
        "### Cell 21: Calculate More Weight Gradients"
      ],
      "metadata": {
        "id": "S9GEHid9p5Ts"
      }
    },
    {
      "cell_type": "code",
      "source": [
        "dW1 = np.dot(X.T, delta_hidden) / X.shape[0]\n",
        "db1 = np.mean(delta_hidden, axis=0, keepdims=True)"
      ],
      "metadata": {
        "id": "fpl-4j45p7ky"
      },
      "execution_count": null,
      "outputs": []
    },
    {
      "cell_type": "markdown",
      "source": [
        "**Explanation:**\n",
        "- Line 1: Calculate gradient for hidden weights (how much to change W1)\n",
        "- Line 2: Calculate gradient for hidden bias (how much to change b1)"
      ],
      "metadata": {
        "id": "b8XcPUVmp95d"
      }
    },
    {
      "cell_type": "markdown",
      "source": [
        "## Part 7: Parameter Updates"
      ],
      "metadata": {
        "id": "9eJ8h5AlqDAU"
      }
    },
    {
      "cell_type": "markdown",
      "source": [
        "### Cell 22: Set Learning Rate"
      ],
      "metadata": {
        "id": "n9XvKkDnqF2L"
      }
    },
    {
      "cell_type": "code",
      "source": [
        "learning_rate = 1.0"
      ],
      "metadata": {
        "id": "lMruAVAHqIuL"
      },
      "execution_count": null,
      "outputs": []
    },
    {
      "cell_type": "markdown",
      "source": [
        "**Explanation:**\n",
        "- Line 1: How big steps we take when updating weights (1.0 is quite large but works for this simple problem)\n"
      ],
      "metadata": {
        "id": "oeLTruzvqLKr"
      }
    },
    {
      "cell_type": "markdown",
      "source": [
        "### Cell 23: Update Output Layer Parameters"
      ],
      "metadata": {
        "id": "d1ZUhftBqNab"
      }
    },
    {
      "cell_type": "code",
      "source": [
        "W2 = W2 - learning_rate * dW2\n",
        "b2 = b2 - learning_rate * db2"
      ],
      "metadata": {
        "id": "FfDccc1WqPgz"
      },
      "execution_count": null,
      "outputs": []
    },
    {
      "cell_type": "markdown",
      "source": [
        "**Explanation:**\n",
        "- Line 1: Update output weights by moving in opposite direction of gradient\n",
        "- Line 2: Update output bias using its gradient"
      ],
      "metadata": {
        "id": "qgdJODHBqRtM"
      }
    },
    {
      "cell_type": "markdown",
      "source": [
        "### Cell 24: Update Hidden Layer Parameters"
      ],
      "metadata": {
        "id": "PQaB0cJIqUoj"
      }
    },
    {
      "cell_type": "code",
      "source": [
        "W1 = W1 - learning_rate * dW1\n",
        "b1 = b1 - learning_rate * db1"
      ],
      "metadata": {
        "id": "ctcDO7EUqWrk"
      },
      "execution_count": null,
      "outputs": []
    },
    {
      "cell_type": "markdown",
      "source": [
        "**Explanation:**\n",
        "- Line 1: Update hidden weights to reduce cost\n",
        "- Line 2: Update hidden bias to reduce cost"
      ],
      "metadata": {
        "id": "P74Yz84ytwKb"
      }
    },
    {
      "cell_type": "markdown",
      "source": [
        "## Part 8: Complete Training Function"
      ],
      "metadata": {
        "id": "ew__rJ02ty5b"
      }
    },
    {
      "cell_type": "markdown",
      "source": [
        "### Cell 25: Define Training Function"
      ],
      "metadata": {
        "id": "RVGvYTljt0or"
      }
    },
    {
      "cell_type": "code",
      "source": [
        "def train_network(X, y, epochs):\n",
        "    costs = []\n",
        "    return costs"
      ],
      "metadata": {
        "id": "hGAIEo0Wt3Bl"
      },
      "execution_count": null,
      "outputs": []
    },
    {
      "cell_type": "markdown",
      "source": [
        "**Explanation:**\n",
        "- Line 1: Function that will train our network for specified number of epochs\n",
        "- Line 2: List to store cost at each epoch for plotting\n",
        "- Line 3: Return costs for analysis"
      ],
      "metadata": {
        "id": "US2YYoQrt538"
      }
    },
    {
      "cell_type": "markdown",
      "source": [
        "### Cell 26: Training Loop Setup\n",
        "```python\n",
        "def full_training(X, y, epochs=1000):\n",
        "    global W1, b1, W2, b2\n",
        "    costs = []\n",
        "```\n",
        "**Explanation:**\n",
        "- Line 1: Define complete training function with default 1000 epochs\n",
        "- Line 2: Declare we'll modify global weight variables\n",
        "- Line 3: Initialize list to track cost over time\n",
        "\n",
        "### Cell 27: Single Epoch Training\n",
        "```python\n",
        "    for epoch in range(epochs):\n",
        "        # Forward pass\n",
        "        z1 = np.dot(X, W1) + b1\n",
        "```\n",
        "**Explanation:**\n",
        "- Line 1: Loop through specified number of training iterations\n",
        "- Line 2: Comment explaining we start with forward pass\n",
        "- Line 3: Compute hidden layer input (linear combination)\n",
        "\n",
        "### Cell 28: Complete Forward Pass in Loop\n",
        "```python\n",
        "        a1 = sigmoid(z1)\n",
        "        z2 = np.dot(a1, W2) + b2\n",
        "        a2 = sigmoid(z2)\n",
        "```\n",
        "**Explanation:**\n",
        "- Line 1: Apply activation to get hidden layer output\n",
        "- Line 2: Compute output layer input\n",
        "- Line 3: Apply final activation to get predictions\n",
        "\n",
        "### Cell 29: Compute Cost in Loop\n",
        "```python\n",
        "        cost = compute_cost(a2, y)\n",
        "        costs.append(cost)\n",
        "```\n",
        "**Explanation:**\n",
        "- Line 1: Calculate current cost (how wrong our predictions are)\n",
        "- Line 2: Store cost for later plotting\n",
        "\n",
        "### Cell 30: Backpropagation in Loop\n",
        "```python\n",
        "        error_output = a2 - y\n",
        "        delta_output = error_output * sigmoid_derivative(z2)\n",
        "        error_hidden = np.dot(delta_output, W2.T)\n",
        "```\n",
        "**Explanation:**\n",
        "- Line 1: Calculate output layer error\n",
        "- Line 2: Apply chain rule for output layer gradient\n",
        "- Line 3: Propagate error back to hidden layer\n",
        "\n",
        "### Cell 31: Hidden Layer Gradients\n",
        "```python\n",
        "        delta_hidden = error_hidden * sigmoid_derivative(z1)\n",
        "        dW2 = np.dot(a1.T, delta_output) / X.shape[0]\n",
        "        db2 = np.mean(delta_output, axis=0, keepdims=True)\n",
        "```\n",
        "**Explanation:**\n",
        "- Line 1: Calculate hidden layer gradients using chain rule\n",
        "- Line 2: Compute gradient for output layer weights\n",
        "- Line 3: Compute gradient for output layer bias\n",
        "\n",
        "### Cell 32: Remaining Gradients and Updates\n",
        "```python\n",
        "        dW1 = np.dot(X.T, delta_hidden) / X.shape[0]\n",
        "        db1 = np.mean(delta_hidden, axis=0, keepdims=True)\n",
        "```\n",
        "**Explanation:**\n",
        "- Line 1: Compute gradient for hidden layer weights\n",
        "- Line 2: Compute gradient for hidden layer bias\n",
        "\n",
        "### Cell 33: Parameter Updates in Loop\n",
        "```python\n",
        "        W2 = W2 - learning_rate * dW2\n",
        "        b2 = b2 - learning_rate * db2\n",
        "        W1 = W1 - learning_rate * dW1\n",
        "```\n",
        "**Explanation:**\n",
        "- Line 1: Update output layer weights (gradient descent step)\n",
        "- Line 2: Update output layer bias\n",
        "- Line 3: Update hidden layer weights\n",
        "\n",
        "### Cell 34: Final Update and Return\n",
        "```python\n",
        "        b1 = b1 - learning_rate * db1\n",
        "        \n",
        "    return costs\n",
        "```\n",
        "**Explanation:**\n",
        "- Line 1: Update hidden layer bias\n",
        "- Line 2: Empty line for readability\n",
        "- Line 3: Return list of costs for analysis"
      ],
      "metadata": {
        "id": "eo8QRNqkY3v9"
      }
    },
    {
      "cell_type": "markdown",
      "source": [
        "### Final Update and Return"
      ],
      "metadata": {
        "id": "vVQwuoJxIWSb"
      }
    },
    {
      "cell_type": "code",
      "source": [
        "def full_training(X, y, epochs=1000):\n",
        "    \"\"\"\n",
        "    Complete training function for the neural network\n",
        "\n",
        "    Args:\n",
        "        X: Input data\n",
        "        y: Target outputs\n",
        "        epochs: Number of training iterations\n",
        "\n",
        "    Returns:\n",
        "        costs: List of costs at each epoch\n",
        "    \"\"\"\n",
        "    global W1, b1, W2, b2\n",
        "    costs = []\n",
        "\n",
        "    for epoch in range(epochs):\n",
        "        # Forward Pass\n",
        "        z1 = np.dot(X, W1) + b1          # Hidden layer input\n",
        "        a1 = sigmoid(z1)                 # Hidden layer output\n",
        "        z2 = np.dot(a1, W2) + b2         # Output layer input\n",
        "        a2 = sigmoid(z2)                 # Final predictions\n",
        "\n",
        "        # Calculate and store cost\n",
        "        cost = compute_cost(a2, y)\n",
        "        costs.append(cost)\n",
        "\n",
        "        # Backward Pass (Backpropagation)\n",
        "        error_output = a2 - y                              # Output error\n",
        "        delta_output = error_output * sigmoid_derivative(z2) # Output delta\n",
        "\n",
        "        error_hidden = np.dot(delta_output, W2.T)          # Hidden error\n",
        "        delta_hidden = error_hidden * sigmoid_derivative(z1) # Hidden delta\n",
        "\n",
        "        # Calculate gradients\n",
        "        dW2 = np.dot(a1.T, delta_output) / X.shape[0]      # Output weights gradient\n",
        "        db2 = np.mean(delta_output, axis=0, keepdims=True)  # Output bias gradient\n",
        "        dW1 = np.dot(X.T, delta_hidden) / X.shape[0]       # Hidden weights gradient\n",
        "        db1 = np.mean(delta_hidden, axis=0, keepdims=True)  # Hidden bias gradient\n",
        "\n",
        "        # Update parameters (Gradient Descent)\n",
        "        W2 = W2 - learning_rate * dW2\n",
        "        b2 = b2 - learning_rate * db2\n",
        "        W1 = W1 - learning_rate * dW1\n",
        "        b1 = b1 - learning_rate * db1\n",
        "\n",
        "        # Print progress every 500 epochs\n",
        "        if epoch % 500 == 0:\n",
        "            print(f\"Epoch {epoch}, Cost: {cost:.6f}\")\n",
        "\n",
        "    return costs"
      ],
      "metadata": {
        "id": "tCWdWusVZXo0"
      },
      "execution_count": null,
      "outputs": []
    },
    {
      "cell_type": "code",
      "source": [],
      "metadata": {
        "id": "-D9PZMRspl2y"
      },
      "execution_count": null,
      "outputs": []
    },
    {
      "cell_type": "code",
      "source": [
        "# ===== PART 6: PREDICTION FUNCTION =====\n",
        "\n",
        "def predict(X_test):\n",
        "    \"\"\"Make predictions using the trained network\"\"\"\n",
        "    z1 = np.dot(X_test, W1) + b1\n",
        "    a1 = sigmoid(z1)\n",
        "    z2 = np.dot(a1, W2) + b2\n",
        "    a2 = sigmoid(z2)\n",
        "    return a2\n",
        "\n",
        "# ===== PART 7: TRAINING THE NETWORK =====\n",
        "\n",
        "print(\"\\n=== TRAINING NEURAL NETWORK ===\")\n",
        "print(\"Training started...\")\n",
        "\n",
        "# Calculate initial cost\n",
        "initial_predictions = predict(X)\n",
        "initial_cost = compute_cost(initial_predictions, y)\n",
        "print(f\"Initial cost: {initial_cost:.6f}\")\n",
        "\n",
        "# Train the network\n",
        "costs = full_training(X, y, epochs=2000)\n",
        "\n",
        "print(\"Training completed!\")"
      ],
      "metadata": {
        "colab": {
          "base_uri": "https://localhost:8080/"
        },
        "id": "OhGY6vE7ZjDU",
        "outputId": "5690d338-5186-4e1b-a625-b3b0a2cd85e7"
      },
      "execution_count": null,
      "outputs": [
        {
          "output_type": "stream",
          "name": "stdout",
          "text": [
            "\n",
            "=== TRAINING NEURAL NETWORK ===\n",
            "Training started...\n",
            "Initial cost: 0.261188\n",
            "Epoch 0, Cost: 0.261188\n",
            "Epoch 500, Cost: 0.244836\n",
            "Epoch 1000, Cost: 0.197630\n",
            "Epoch 1500, Cost: 0.093106\n",
            "Training completed!\n"
          ]
        }
      ]
    },
    {
      "cell_type": "code",
      "source": [
        "# ===== PART 8: EVALUATING RESULTS =====\n",
        "\n",
        "print(\"\\n=== EVALUATION RESULTS ===\")\n",
        "\n",
        "# Get final predictions\n",
        "final_predictions = predict(X)\n",
        "final_cost = compute_cost(final_predictions, y)\n",
        "\n",
        "print(f\"Final cost: {final_cost:.6f}\")\n",
        "print(f\"Cost improvement: {initial_cost - final_cost:.6f}\")\n",
        "\n",
        "# Calculate accuracy\n",
        "rounded_predictions = np.round(final_predictions)\n",
        "accuracy = np.mean(rounded_predictions == y) * 100\n",
        "print(f\"Accuracy: {accuracy:.1f}%\")\n",
        "\n",
        "# Show detailed results\n",
        "print(\"\\nDetailed Results:\")\n",
        "print(\"Input -> Predicted -> Target -> Correct?\")\n",
        "for i in range(len(X)):\n",
        "    pred = final_predictions[i, 0]\n",
        "    target = y[i, 0]\n",
        "    rounded_pred = rounded_predictions[i, 0]\n",
        "    correct = \"✓\" if rounded_pred == target else \"✗\"\n",
        "    print(f\"{X[i]} -> {pred:.3f} -> {target} -> {correct}\")"
      ],
      "metadata": {
        "colab": {
          "base_uri": "https://localhost:8080/"
        },
        "id": "TnqyGsSDc0L1",
        "outputId": "4a6674fc-082f-4884-b8ab-02c3fa4b553a"
      },
      "execution_count": null,
      "outputs": [
        {
          "output_type": "stream",
          "name": "stdout",
          "text": [
            "\n",
            "=== EVALUATION RESULTS ===\n",
            "Final cost: 0.019204\n",
            "Cost improvement: 0.241984\n",
            "Accuracy: 100.0%\n",
            "\n",
            "Detailed Results:\n",
            "Input -> Predicted -> Target -> Correct?\n",
            "[0 0] -> 0.128 -> 0 -> ✓\n",
            "[0 1] -> 0.865 -> 1 -> ✓\n",
            "[1 0] -> 0.866 -> 1 -> ✓\n",
            "[1 1] -> 0.156 -> 0 -> ✓\n"
          ]
        }
      ]
    }
  ]
}