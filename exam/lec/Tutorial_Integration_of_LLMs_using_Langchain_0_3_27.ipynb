{
  "nbformat": 4,
  "nbformat_minor": 0,
  "metadata": {
    "colab": {
      "provenance": []
    },
    "kernelspec": {
      "name": "python3",
      "display_name": "Python 3"
    },
    "language_info": {
      "name": "python"
    }
  },
  "cells": [
    {
      "cell_type": "markdown",
      "source": [
        "# LangChain 0.3.27 Tutorial: Real-World Applications with OpenRouter\n",
        "\n",
        "## Table of Contents\n",
        "1. [Setup & Installation](#setup--installation)\n",
        "2. [Basic Configuration](#basic-configuration)\n",
        "3. [Scenario 1: Customer Support Chatbot](#scenario-1-customer-support-chatbot)\n",
        "4. [Scenario 2: Document Analysis & Summarization](#scenario-2-document-analysis--summarization)\n",
        "5. [Scenario 3: Code Review Assistant](#scenario-3-code-review-assistant)\n",
        "6. [Scenario 4: Content Generation Pipeline](#scenario-4-content-generation-pipeline)\n",
        "7. [Scenario 5: Data Analysis & Insights](#scenario-5-data-analysis--insights)\n",
        "8. [Advanced Features](#advanced-features)"
      ],
      "metadata": {
        "id": "SIwCbxwS9ZEu"
      }
    },
    {
      "cell_type": "markdown",
      "source": [
        "## Setup & Installation\n",
        "\n",
        "### Step 1: Install Required Packages\n",
        "\n",
        "First, let's install LangChain and required dependencies in your Google Colab environment."
      ],
      "metadata": {
        "id": "NAty-6dW9jtn"
      }
    },
    {
      "cell_type": "code",
      "source": [
        "# Install LangChain 0.3.27 and dependencies\n",
        "!pip install langchain==0.3.27\n",
        "!pip install langchain-openai\n",
        "!pip install python-dotenv"
      ],
      "metadata": {
        "colab": {
          "base_uri": "https://localhost:8080/"
        },
        "id": "e00kflDJ9nmO",
        "outputId": "d4fff388-ae04-4151-ac2b-81d726255e9e"
      },
      "execution_count": null,
      "outputs": [
        {
          "output_type": "stream",
          "name": "stdout",
          "text": [
            "Requirement already satisfied: langchain==0.3.27 in /usr/local/lib/python3.12/dist-packages (0.3.27)\n",
            "Requirement already satisfied: langchain-core<1.0.0,>=0.3.72 in /usr/local/lib/python3.12/dist-packages (from langchain==0.3.27) (0.3.74)\n",
            "Requirement already satisfied: langchain-text-splitters<1.0.0,>=0.3.9 in /usr/local/lib/python3.12/dist-packages (from langchain==0.3.27) (0.3.9)\n",
            "Requirement already satisfied: langsmith>=0.1.17 in /usr/local/lib/python3.12/dist-packages (from langchain==0.3.27) (0.4.14)\n",
            "Requirement already satisfied: pydantic<3.0.0,>=2.7.4 in /usr/local/lib/python3.12/dist-packages (from langchain==0.3.27) (2.11.7)\n",
            "Requirement already satisfied: SQLAlchemy<3,>=1.4 in /usr/local/lib/python3.12/dist-packages (from langchain==0.3.27) (2.0.43)\n",
            "Requirement already satisfied: requests<3,>=2 in /usr/local/lib/python3.12/dist-packages (from langchain==0.3.27) (2.32.4)\n",
            "Requirement already satisfied: PyYAML>=5.3 in /usr/local/lib/python3.12/dist-packages (from langchain==0.3.27) (6.0.2)\n",
            "Requirement already satisfied: tenacity!=8.4.0,<10.0.0,>=8.1.0 in /usr/local/lib/python3.12/dist-packages (from langchain-core<1.0.0,>=0.3.72->langchain==0.3.27) (8.5.0)\n",
            "Requirement already satisfied: jsonpatch<2.0,>=1.33 in /usr/local/lib/python3.12/dist-packages (from langchain-core<1.0.0,>=0.3.72->langchain==0.3.27) (1.33)\n",
            "Requirement already satisfied: typing-extensions>=4.7 in /usr/local/lib/python3.12/dist-packages (from langchain-core<1.0.0,>=0.3.72->langchain==0.3.27) (4.14.1)\n",
            "Requirement already satisfied: packaging>=23.2 in /usr/local/lib/python3.12/dist-packages (from langchain-core<1.0.0,>=0.3.72->langchain==0.3.27) (25.0)\n",
            "Requirement already satisfied: httpx<1,>=0.23.0 in /usr/local/lib/python3.12/dist-packages (from langsmith>=0.1.17->langchain==0.3.27) (0.28.1)\n",
            "Requirement already satisfied: orjson>=3.9.14 in /usr/local/lib/python3.12/dist-packages (from langsmith>=0.1.17->langchain==0.3.27) (3.11.2)\n",
            "Requirement already satisfied: requests-toolbelt>=1.0.0 in /usr/local/lib/python3.12/dist-packages (from langsmith>=0.1.17->langchain==0.3.27) (1.0.0)\n",
            "Requirement already satisfied: zstandard>=0.23.0 in /usr/local/lib/python3.12/dist-packages (from langsmith>=0.1.17->langchain==0.3.27) (0.24.0)\n",
            "Requirement already satisfied: annotated-types>=0.6.0 in /usr/local/lib/python3.12/dist-packages (from pydantic<3.0.0,>=2.7.4->langchain==0.3.27) (0.7.0)\n",
            "Requirement already satisfied: pydantic-core==2.33.2 in /usr/local/lib/python3.12/dist-packages (from pydantic<3.0.0,>=2.7.4->langchain==0.3.27) (2.33.2)\n",
            "Requirement already satisfied: typing-inspection>=0.4.0 in /usr/local/lib/python3.12/dist-packages (from pydantic<3.0.0,>=2.7.4->langchain==0.3.27) (0.4.1)\n",
            "Requirement already satisfied: charset_normalizer<4,>=2 in /usr/local/lib/python3.12/dist-packages (from requests<3,>=2->langchain==0.3.27) (3.4.3)\n",
            "Requirement already satisfied: idna<4,>=2.5 in /usr/local/lib/python3.12/dist-packages (from requests<3,>=2->langchain==0.3.27) (3.10)\n",
            "Requirement already satisfied: urllib3<3,>=1.21.1 in /usr/local/lib/python3.12/dist-packages (from requests<3,>=2->langchain==0.3.27) (2.5.0)\n",
            "Requirement already satisfied: certifi>=2017.4.17 in /usr/local/lib/python3.12/dist-packages (from requests<3,>=2->langchain==0.3.27) (2025.8.3)\n",
            "Requirement already satisfied: greenlet>=1 in /usr/local/lib/python3.12/dist-packages (from SQLAlchemy<3,>=1.4->langchain==0.3.27) (3.2.4)\n",
            "Requirement already satisfied: anyio in /usr/local/lib/python3.12/dist-packages (from httpx<1,>=0.23.0->langsmith>=0.1.17->langchain==0.3.27) (4.10.0)\n",
            "Requirement already satisfied: httpcore==1.* in /usr/local/lib/python3.12/dist-packages (from httpx<1,>=0.23.0->langsmith>=0.1.17->langchain==0.3.27) (1.0.9)\n",
            "Requirement already satisfied: h11>=0.16 in /usr/local/lib/python3.12/dist-packages (from httpcore==1.*->httpx<1,>=0.23.0->langsmith>=0.1.17->langchain==0.3.27) (0.16.0)\n",
            "Requirement already satisfied: jsonpointer>=1.9 in /usr/local/lib/python3.12/dist-packages (from jsonpatch<2.0,>=1.33->langchain-core<1.0.0,>=0.3.72->langchain==0.3.27) (3.0.0)\n",
            "Requirement already satisfied: sniffio>=1.1 in /usr/local/lib/python3.12/dist-packages (from anyio->httpx<1,>=0.23.0->langsmith>=0.1.17->langchain==0.3.27) (1.3.1)\n",
            "Collecting langchain-openai\n",
            "  Downloading langchain_openai-0.3.31-py3-none-any.whl.metadata (2.4 kB)\n",
            "Requirement already satisfied: langchain-core<1.0.0,>=0.3.74 in /usr/local/lib/python3.12/dist-packages (from langchain-openai) (0.3.74)\n",
            "Requirement already satisfied: openai<2.0.0,>=1.99.9 in /usr/local/lib/python3.12/dist-packages (from langchain-openai) (1.100.0)\n",
            "Requirement already satisfied: tiktoken<1,>=0.7 in /usr/local/lib/python3.12/dist-packages (from langchain-openai) (0.11.0)\n",
            "Requirement already satisfied: langsmith>=0.3.45 in /usr/local/lib/python3.12/dist-packages (from langchain-core<1.0.0,>=0.3.74->langchain-openai) (0.4.14)\n",
            "Requirement already satisfied: tenacity!=8.4.0,<10.0.0,>=8.1.0 in /usr/local/lib/python3.12/dist-packages (from langchain-core<1.0.0,>=0.3.74->langchain-openai) (8.5.0)\n",
            "Requirement already satisfied: jsonpatch<2.0,>=1.33 in /usr/local/lib/python3.12/dist-packages (from langchain-core<1.0.0,>=0.3.74->langchain-openai) (1.33)\n",
            "Requirement already satisfied: PyYAML>=5.3 in /usr/local/lib/python3.12/dist-packages (from langchain-core<1.0.0,>=0.3.74->langchain-openai) (6.0.2)\n",
            "Requirement already satisfied: typing-extensions>=4.7 in /usr/local/lib/python3.12/dist-packages (from langchain-core<1.0.0,>=0.3.74->langchain-openai) (4.14.1)\n",
            "Requirement already satisfied: packaging>=23.2 in /usr/local/lib/python3.12/dist-packages (from langchain-core<1.0.0,>=0.3.74->langchain-openai) (25.0)\n",
            "Requirement already satisfied: pydantic>=2.7.4 in /usr/local/lib/python3.12/dist-packages (from langchain-core<1.0.0,>=0.3.74->langchain-openai) (2.11.7)\n",
            "Requirement already satisfied: anyio<5,>=3.5.0 in /usr/local/lib/python3.12/dist-packages (from openai<2.0.0,>=1.99.9->langchain-openai) (4.10.0)\n",
            "Requirement already satisfied: distro<2,>=1.7.0 in /usr/local/lib/python3.12/dist-packages (from openai<2.0.0,>=1.99.9->langchain-openai) (1.9.0)\n",
            "Requirement already satisfied: httpx<1,>=0.23.0 in /usr/local/lib/python3.12/dist-packages (from openai<2.0.0,>=1.99.9->langchain-openai) (0.28.1)\n",
            "Requirement already satisfied: jiter<1,>=0.4.0 in /usr/local/lib/python3.12/dist-packages (from openai<2.0.0,>=1.99.9->langchain-openai) (0.10.0)\n",
            "Requirement already satisfied: sniffio in /usr/local/lib/python3.12/dist-packages (from openai<2.0.0,>=1.99.9->langchain-openai) (1.3.1)\n",
            "Requirement already satisfied: tqdm>4 in /usr/local/lib/python3.12/dist-packages (from openai<2.0.0,>=1.99.9->langchain-openai) (4.67.1)\n",
            "Requirement already satisfied: regex>=2022.1.18 in /usr/local/lib/python3.12/dist-packages (from tiktoken<1,>=0.7->langchain-openai) (2024.11.6)\n",
            "Requirement already satisfied: requests>=2.26.0 in /usr/local/lib/python3.12/dist-packages (from tiktoken<1,>=0.7->langchain-openai) (2.32.4)\n",
            "Requirement already satisfied: idna>=2.8 in /usr/local/lib/python3.12/dist-packages (from anyio<5,>=3.5.0->openai<2.0.0,>=1.99.9->langchain-openai) (3.10)\n",
            "Requirement already satisfied: certifi in /usr/local/lib/python3.12/dist-packages (from httpx<1,>=0.23.0->openai<2.0.0,>=1.99.9->langchain-openai) (2025.8.3)\n",
            "Requirement already satisfied: httpcore==1.* in /usr/local/lib/python3.12/dist-packages (from httpx<1,>=0.23.0->openai<2.0.0,>=1.99.9->langchain-openai) (1.0.9)\n",
            "Requirement already satisfied: h11>=0.16 in /usr/local/lib/python3.12/dist-packages (from httpcore==1.*->httpx<1,>=0.23.0->openai<2.0.0,>=1.99.9->langchain-openai) (0.16.0)\n",
            "Requirement already satisfied: jsonpointer>=1.9 in /usr/local/lib/python3.12/dist-packages (from jsonpatch<2.0,>=1.33->langchain-core<1.0.0,>=0.3.74->langchain-openai) (3.0.0)\n",
            "Requirement already satisfied: orjson>=3.9.14 in /usr/local/lib/python3.12/dist-packages (from langsmith>=0.3.45->langchain-core<1.0.0,>=0.3.74->langchain-openai) (3.11.2)\n",
            "Requirement already satisfied: requests-toolbelt>=1.0.0 in /usr/local/lib/python3.12/dist-packages (from langsmith>=0.3.45->langchain-core<1.0.0,>=0.3.74->langchain-openai) (1.0.0)\n",
            "Requirement already satisfied: zstandard>=0.23.0 in /usr/local/lib/python3.12/dist-packages (from langsmith>=0.3.45->langchain-core<1.0.0,>=0.3.74->langchain-openai) (0.24.0)\n",
            "Requirement already satisfied: annotated-types>=0.6.0 in /usr/local/lib/python3.12/dist-packages (from pydantic>=2.7.4->langchain-core<1.0.0,>=0.3.74->langchain-openai) (0.7.0)\n",
            "Requirement already satisfied: pydantic-core==2.33.2 in /usr/local/lib/python3.12/dist-packages (from pydantic>=2.7.4->langchain-core<1.0.0,>=0.3.74->langchain-openai) (2.33.2)\n",
            "Requirement already satisfied: typing-inspection>=0.4.0 in /usr/local/lib/python3.12/dist-packages (from pydantic>=2.7.4->langchain-core<1.0.0,>=0.3.74->langchain-openai) (0.4.1)\n",
            "Requirement already satisfied: charset_normalizer<4,>=2 in /usr/local/lib/python3.12/dist-packages (from requests>=2.26.0->tiktoken<1,>=0.7->langchain-openai) (3.4.3)\n",
            "Requirement already satisfied: urllib3<3,>=1.21.1 in /usr/local/lib/python3.12/dist-packages (from requests>=2.26.0->tiktoken<1,>=0.7->langchain-openai) (2.5.0)\n",
            "Downloading langchain_openai-0.3.31-py3-none-any.whl (74 kB)\n",
            "\u001b[2K   \u001b[90m━━━━━━━━━━━━━━━━━━━━━━━━━━━━━━━━━━━━━━━━\u001b[0m \u001b[32m74.5/74.5 kB\u001b[0m \u001b[31m1.8 MB/s\u001b[0m eta \u001b[36m0:00:00\u001b[0m\n",
            "\u001b[?25hInstalling collected packages: langchain-openai\n",
            "Successfully installed langchain-openai-0.3.31\n",
            "Requirement already satisfied: python-dotenv in /usr/local/lib/python3.12/dist-packages (1.1.1)\n"
          ]
        }
      ]
    },
    {
      "cell_type": "code",
      "source": [
        "# Install additional packages for document processing\n",
        "!pip install pypdf2\n",
        "!pip install chromadb\n",
        "!pip install tiktoken"
      ],
      "metadata": {
        "colab": {
          "base_uri": "https://localhost:8080/",
          "height": 1000
        },
        "id": "AMl-VnbN72iT",
        "outputId": "647e927d-e24f-4624-f547-631ee7b58147"
      },
      "execution_count": null,
      "outputs": [
        {
          "output_type": "stream",
          "name": "stdout",
          "text": [
            "Collecting pypdf2\n",
            "  Downloading pypdf2-3.0.1-py3-none-any.whl.metadata (6.8 kB)\n",
            "Downloading pypdf2-3.0.1-py3-none-any.whl (232 kB)\n",
            "\u001b[2K   \u001b[90m━━━━━━━━━━━━━━━━━━━━━━━━━━━━━━━━━━━━━━━━\u001b[0m \u001b[32m232.6/232.6 kB\u001b[0m \u001b[31m3.6 MB/s\u001b[0m eta \u001b[36m0:00:00\u001b[0m\n",
            "\u001b[?25hInstalling collected packages: pypdf2\n",
            "Successfully installed pypdf2-3.0.1\n",
            "Collecting chromadb\n",
            "  Downloading chromadb-1.0.20-cp39-abi3-manylinux_2_17_x86_64.manylinux2014_x86_64.whl.metadata (7.3 kB)\n",
            "Requirement already satisfied: build>=1.0.3 in /usr/local/lib/python3.12/dist-packages (from chromadb) (1.3.0)\n",
            "Requirement already satisfied: pydantic>=1.9 in /usr/local/lib/python3.12/dist-packages (from chromadb) (2.11.7)\n",
            "Collecting pybase64>=1.4.1 (from chromadb)\n",
            "  Downloading pybase64-1.4.2-cp312-cp312-manylinux1_x86_64.manylinux2014_x86_64.manylinux_2_17_x86_64.manylinux_2_5_x86_64.whl.metadata (8.7 kB)\n",
            "Requirement already satisfied: uvicorn>=0.18.3 in /usr/local/lib/python3.12/dist-packages (from uvicorn[standard]>=0.18.3->chromadb) (0.35.0)\n",
            "Requirement already satisfied: numpy>=1.22.5 in /usr/local/lib/python3.12/dist-packages (from chromadb) (2.0.2)\n",
            "Collecting posthog<6.0.0,>=2.4.0 (from chromadb)\n",
            "  Downloading posthog-5.4.0-py3-none-any.whl.metadata (5.7 kB)\n",
            "Requirement already satisfied: typing-extensions>=4.5.0 in /usr/local/lib/python3.12/dist-packages (from chromadb) (4.14.1)\n",
            "Collecting onnxruntime>=1.14.1 (from chromadb)\n",
            "  Downloading onnxruntime-1.22.1-cp312-cp312-manylinux_2_27_x86_64.manylinux_2_28_x86_64.whl.metadata (4.9 kB)\n",
            "Requirement already satisfied: opentelemetry-api>=1.2.0 in /usr/local/lib/python3.12/dist-packages (from chromadb) (1.36.0)\n",
            "Collecting opentelemetry-exporter-otlp-proto-grpc>=1.2.0 (from chromadb)\n",
            "  Downloading opentelemetry_exporter_otlp_proto_grpc-1.36.0-py3-none-any.whl.metadata (2.4 kB)\n",
            "Requirement already satisfied: opentelemetry-sdk>=1.2.0 in /usr/local/lib/python3.12/dist-packages (from chromadb) (1.36.0)\n",
            "Requirement already satisfied: tokenizers>=0.13.2 in /usr/local/lib/python3.12/dist-packages (from chromadb) (0.21.4)\n",
            "Collecting pypika>=0.48.9 (from chromadb)\n",
            "  Downloading PyPika-0.48.9.tar.gz (67 kB)\n",
            "\u001b[2K     \u001b[90m━━━━━━━━━━━━━━━━━━━━━━━━━━━━━━━━━━━━━━━━\u001b[0m \u001b[32m67.3/67.3 kB\u001b[0m \u001b[31m2.4 MB/s\u001b[0m eta \u001b[36m0:00:00\u001b[0m\n",
            "\u001b[?25h  Installing build dependencies ... \u001b[?25l\u001b[?25hdone\n",
            "  Getting requirements to build wheel ... \u001b[?25l\u001b[?25hdone\n",
            "  Preparing metadata (pyproject.toml) ... \u001b[?25l\u001b[?25hdone\n",
            "Requirement already satisfied: tqdm>=4.65.0 in /usr/local/lib/python3.12/dist-packages (from chromadb) (4.67.1)\n",
            "Collecting overrides>=7.3.1 (from chromadb)\n",
            "  Downloading overrides-7.7.0-py3-none-any.whl.metadata (5.8 kB)\n",
            "Requirement already satisfied: importlib-resources in /usr/local/lib/python3.12/dist-packages (from chromadb) (6.5.2)\n",
            "Requirement already satisfied: grpcio>=1.58.0 in /usr/local/lib/python3.12/dist-packages (from chromadb) (1.74.0)\n",
            "Collecting bcrypt>=4.0.1 (from chromadb)\n",
            "  Downloading bcrypt-4.3.0-cp39-abi3-manylinux_2_34_x86_64.whl.metadata (10 kB)\n",
            "Requirement already satisfied: typer>=0.9.0 in /usr/local/lib/python3.12/dist-packages (from chromadb) (0.16.0)\n",
            "Collecting kubernetes>=28.1.0 (from chromadb)\n",
            "  Downloading kubernetes-33.1.0-py2.py3-none-any.whl.metadata (1.7 kB)\n",
            "Requirement already satisfied: tenacity>=8.2.3 in /usr/local/lib/python3.12/dist-packages (from chromadb) (8.5.0)\n",
            "Requirement already satisfied: pyyaml>=6.0.0 in /usr/local/lib/python3.12/dist-packages (from chromadb) (6.0.2)\n",
            "Collecting mmh3>=4.0.1 (from chromadb)\n",
            "  Downloading mmh3-5.2.0-cp312-cp312-manylinux1_x86_64.manylinux_2_28_x86_64.manylinux_2_5_x86_64.whl.metadata (14 kB)\n",
            "Requirement already satisfied: orjson>=3.9.12 in /usr/local/lib/python3.12/dist-packages (from chromadb) (3.11.2)\n",
            "Requirement already satisfied: httpx>=0.27.0 in /usr/local/lib/python3.12/dist-packages (from chromadb) (0.28.1)\n",
            "Requirement already satisfied: rich>=10.11.0 in /usr/local/lib/python3.12/dist-packages (from chromadb) (13.9.4)\n",
            "Requirement already satisfied: jsonschema>=4.19.0 in /usr/local/lib/python3.12/dist-packages (from chromadb) (4.25.1)\n",
            "Requirement already satisfied: packaging>=19.1 in /usr/local/lib/python3.12/dist-packages (from build>=1.0.3->chromadb) (25.0)\n",
            "Requirement already satisfied: pyproject_hooks in /usr/local/lib/python3.12/dist-packages (from build>=1.0.3->chromadb) (1.2.0)\n",
            "Requirement already satisfied: anyio in /usr/local/lib/python3.12/dist-packages (from httpx>=0.27.0->chromadb) (4.10.0)\n",
            "Requirement already satisfied: certifi in /usr/local/lib/python3.12/dist-packages (from httpx>=0.27.0->chromadb) (2025.8.3)\n",
            "Requirement already satisfied: httpcore==1.* in /usr/local/lib/python3.12/dist-packages (from httpx>=0.27.0->chromadb) (1.0.9)\n",
            "Requirement already satisfied: idna in /usr/local/lib/python3.12/dist-packages (from httpx>=0.27.0->chromadb) (3.10)\n",
            "Requirement already satisfied: h11>=0.16 in /usr/local/lib/python3.12/dist-packages (from httpcore==1.*->httpx>=0.27.0->chromadb) (0.16.0)\n",
            "Requirement already satisfied: attrs>=22.2.0 in /usr/local/lib/python3.12/dist-packages (from jsonschema>=4.19.0->chromadb) (25.3.0)\n",
            "Requirement already satisfied: jsonschema-specifications>=2023.03.6 in /usr/local/lib/python3.12/dist-packages (from jsonschema>=4.19.0->chromadb) (2025.4.1)\n",
            "Requirement already satisfied: referencing>=0.28.4 in /usr/local/lib/python3.12/dist-packages (from jsonschema>=4.19.0->chromadb) (0.36.2)\n",
            "Requirement already satisfied: rpds-py>=0.7.1 in /usr/local/lib/python3.12/dist-packages (from jsonschema>=4.19.0->chromadb) (0.27.0)\n",
            "Requirement already satisfied: six>=1.9.0 in /usr/local/lib/python3.12/dist-packages (from kubernetes>=28.1.0->chromadb) (1.17.0)\n",
            "Requirement already satisfied: python-dateutil>=2.5.3 in /usr/local/lib/python3.12/dist-packages (from kubernetes>=28.1.0->chromadb) (2.9.0.post0)\n",
            "Requirement already satisfied: google-auth>=1.0.1 in /usr/local/lib/python3.12/dist-packages (from kubernetes>=28.1.0->chromadb) (2.38.0)\n",
            "Requirement already satisfied: websocket-client!=0.40.0,!=0.41.*,!=0.42.*,>=0.32.0 in /usr/local/lib/python3.12/dist-packages (from kubernetes>=28.1.0->chromadb) (1.8.0)\n",
            "Requirement already satisfied: requests in /usr/local/lib/python3.12/dist-packages (from kubernetes>=28.1.0->chromadb) (2.32.4)\n",
            "Requirement already satisfied: requests-oauthlib in /usr/local/lib/python3.12/dist-packages (from kubernetes>=28.1.0->chromadb) (2.0.0)\n",
            "Requirement already satisfied: oauthlib>=3.2.2 in /usr/local/lib/python3.12/dist-packages (from kubernetes>=28.1.0->chromadb) (3.3.1)\n",
            "Requirement already satisfied: urllib3>=1.24.2 in /usr/local/lib/python3.12/dist-packages (from kubernetes>=28.1.0->chromadb) (2.5.0)\n",
            "Collecting durationpy>=0.7 (from kubernetes>=28.1.0->chromadb)\n",
            "  Downloading durationpy-0.10-py3-none-any.whl.metadata (340 bytes)\n",
            "Collecting coloredlogs (from onnxruntime>=1.14.1->chromadb)\n",
            "  Downloading coloredlogs-15.0.1-py2.py3-none-any.whl.metadata (12 kB)\n",
            "Requirement already satisfied: flatbuffers in /usr/local/lib/python3.12/dist-packages (from onnxruntime>=1.14.1->chromadb) (25.2.10)\n",
            "Requirement already satisfied: protobuf in /usr/local/lib/python3.12/dist-packages (from onnxruntime>=1.14.1->chromadb) (5.29.5)\n",
            "Requirement already satisfied: sympy in /usr/local/lib/python3.12/dist-packages (from onnxruntime>=1.14.1->chromadb) (1.13.3)\n",
            "Requirement already satisfied: importlib-metadata<8.8.0,>=6.0 in /usr/local/lib/python3.12/dist-packages (from opentelemetry-api>=1.2.0->chromadb) (8.7.0)\n",
            "Requirement already satisfied: googleapis-common-protos~=1.57 in /usr/local/lib/python3.12/dist-packages (from opentelemetry-exporter-otlp-proto-grpc>=1.2.0->chromadb) (1.70.0)\n",
            "Collecting opentelemetry-exporter-otlp-proto-common==1.36.0 (from opentelemetry-exporter-otlp-proto-grpc>=1.2.0->chromadb)\n",
            "  Downloading opentelemetry_exporter_otlp_proto_common-1.36.0-py3-none-any.whl.metadata (1.8 kB)\n",
            "Collecting opentelemetry-proto==1.36.0 (from opentelemetry-exporter-otlp-proto-grpc>=1.2.0->chromadb)\n",
            "  Downloading opentelemetry_proto-1.36.0-py3-none-any.whl.metadata (2.3 kB)\n",
            "Requirement already satisfied: opentelemetry-semantic-conventions==0.57b0 in /usr/local/lib/python3.12/dist-packages (from opentelemetry-sdk>=1.2.0->chromadb) (0.57b0)\n",
            "Collecting backoff>=1.10.0 (from posthog<6.0.0,>=2.4.0->chromadb)\n",
            "  Downloading backoff-2.2.1-py3-none-any.whl.metadata (14 kB)\n",
            "Requirement already satisfied: distro>=1.5.0 in /usr/local/lib/python3.12/dist-packages (from posthog<6.0.0,>=2.4.0->chromadb) (1.9.0)\n",
            "Requirement already satisfied: annotated-types>=0.6.0 in /usr/local/lib/python3.12/dist-packages (from pydantic>=1.9->chromadb) (0.7.0)\n",
            "Requirement already satisfied: pydantic-core==2.33.2 in /usr/local/lib/python3.12/dist-packages (from pydantic>=1.9->chromadb) (2.33.2)\n",
            "Requirement already satisfied: typing-inspection>=0.4.0 in /usr/local/lib/python3.12/dist-packages (from pydantic>=1.9->chromadb) (0.4.1)\n",
            "Requirement already satisfied: markdown-it-py>=2.2.0 in /usr/local/lib/python3.12/dist-packages (from rich>=10.11.0->chromadb) (4.0.0)\n",
            "Requirement already satisfied: pygments<3.0.0,>=2.13.0 in /usr/local/lib/python3.12/dist-packages (from rich>=10.11.0->chromadb) (2.19.2)\n",
            "Requirement already satisfied: huggingface-hub<1.0,>=0.16.4 in /usr/local/lib/python3.12/dist-packages (from tokenizers>=0.13.2->chromadb) (0.34.4)\n",
            "Requirement already satisfied: click>=8.0.0 in /usr/local/lib/python3.12/dist-packages (from typer>=0.9.0->chromadb) (8.2.1)\n",
            "Requirement already satisfied: shellingham>=1.3.0 in /usr/local/lib/python3.12/dist-packages (from typer>=0.9.0->chromadb) (1.5.4)\n",
            "Collecting httptools>=0.6.3 (from uvicorn[standard]>=0.18.3->chromadb)\n",
            "  Downloading httptools-0.6.4-cp312-cp312-manylinux_2_5_x86_64.manylinux1_x86_64.manylinux_2_17_x86_64.manylinux2014_x86_64.whl.metadata (3.6 kB)\n",
            "Requirement already satisfied: python-dotenv>=0.13 in /usr/local/lib/python3.12/dist-packages (from uvicorn[standard]>=0.18.3->chromadb) (1.1.1)\n",
            "Collecting uvloop>=0.15.1 (from uvicorn[standard]>=0.18.3->chromadb)\n",
            "  Downloading uvloop-0.21.0-cp312-cp312-manylinux_2_17_x86_64.manylinux2014_x86_64.whl.metadata (4.9 kB)\n",
            "Collecting watchfiles>=0.13 (from uvicorn[standard]>=0.18.3->chromadb)\n",
            "  Downloading watchfiles-1.1.0-cp312-cp312-manylinux_2_17_x86_64.manylinux2014_x86_64.whl.metadata (4.9 kB)\n",
            "Requirement already satisfied: websockets>=10.4 in /usr/local/lib/python3.12/dist-packages (from uvicorn[standard]>=0.18.3->chromadb) (15.0.1)\n",
            "Requirement already satisfied: cachetools<6.0,>=2.0.0 in /usr/local/lib/python3.12/dist-packages (from google-auth>=1.0.1->kubernetes>=28.1.0->chromadb) (5.5.2)\n",
            "Requirement already satisfied: pyasn1-modules>=0.2.1 in /usr/local/lib/python3.12/dist-packages (from google-auth>=1.0.1->kubernetes>=28.1.0->chromadb) (0.4.2)\n",
            "Requirement already satisfied: rsa<5,>=3.1.4 in /usr/local/lib/python3.12/dist-packages (from google-auth>=1.0.1->kubernetes>=28.1.0->chromadb) (4.9.1)\n",
            "Requirement already satisfied: filelock in /usr/local/lib/python3.12/dist-packages (from huggingface-hub<1.0,>=0.16.4->tokenizers>=0.13.2->chromadb) (3.19.1)\n",
            "Requirement already satisfied: fsspec>=2023.5.0 in /usr/local/lib/python3.12/dist-packages (from huggingface-hub<1.0,>=0.16.4->tokenizers>=0.13.2->chromadb) (2025.3.0)\n",
            "Requirement already satisfied: hf-xet<2.0.0,>=1.1.3 in /usr/local/lib/python3.12/dist-packages (from huggingface-hub<1.0,>=0.16.4->tokenizers>=0.13.2->chromadb) (1.1.7)\n",
            "Requirement already satisfied: zipp>=3.20 in /usr/local/lib/python3.12/dist-packages (from importlib-metadata<8.8.0,>=6.0->opentelemetry-api>=1.2.0->chromadb) (3.23.0)\n",
            "Requirement already satisfied: mdurl~=0.1 in /usr/local/lib/python3.12/dist-packages (from markdown-it-py>=2.2.0->rich>=10.11.0->chromadb) (0.1.2)\n",
            "Requirement already satisfied: charset_normalizer<4,>=2 in /usr/local/lib/python3.12/dist-packages (from requests->kubernetes>=28.1.0->chromadb) (3.4.3)\n",
            "Requirement already satisfied: sniffio>=1.1 in /usr/local/lib/python3.12/dist-packages (from anyio->httpx>=0.27.0->chromadb) (1.3.1)\n",
            "Collecting humanfriendly>=9.1 (from coloredlogs->onnxruntime>=1.14.1->chromadb)\n",
            "  Downloading humanfriendly-10.0-py2.py3-none-any.whl.metadata (9.2 kB)\n",
            "Requirement already satisfied: mpmath<1.4,>=1.1.0 in /usr/local/lib/python3.12/dist-packages (from sympy->onnxruntime>=1.14.1->chromadb) (1.3.0)\n",
            "Requirement already satisfied: pyasn1<0.7.0,>=0.6.1 in /usr/local/lib/python3.12/dist-packages (from pyasn1-modules>=0.2.1->google-auth>=1.0.1->kubernetes>=28.1.0->chromadb) (0.6.1)\n",
            "Downloading chromadb-1.0.20-cp39-abi3-manylinux_2_17_x86_64.manylinux2014_x86_64.whl (19.8 MB)\n",
            "\u001b[2K   \u001b[90m━━━━━━━━━━━━━━━━━━━━━━━━━━━━━━━━━━━━━━━━\u001b[0m \u001b[32m19.8/19.8 MB\u001b[0m \u001b[31m64.6 MB/s\u001b[0m eta \u001b[36m0:00:00\u001b[0m\n",
            "\u001b[?25hDownloading bcrypt-4.3.0-cp39-abi3-manylinux_2_34_x86_64.whl (284 kB)\n",
            "\u001b[2K   \u001b[90m━━━━━━━━━━━━━━━━━━━━━━━━━━━━━━━━━━━━━━━━\u001b[0m \u001b[32m284.2/284.2 kB\u001b[0m \u001b[31m14.2 MB/s\u001b[0m eta \u001b[36m0:00:00\u001b[0m\n",
            "\u001b[?25hDownloading kubernetes-33.1.0-py2.py3-none-any.whl (1.9 MB)\n",
            "\u001b[2K   \u001b[90m━━━━━━━━━━━━━━━━━━━━━━━━━━━━━━━━━━━━━━━━\u001b[0m \u001b[32m1.9/1.9 MB\u001b[0m \u001b[31m68.1 MB/s\u001b[0m eta \u001b[36m0:00:00\u001b[0m\n",
            "\u001b[?25hDownloading mmh3-5.2.0-cp312-cp312-manylinux1_x86_64.manylinux_2_28_x86_64.manylinux_2_5_x86_64.whl (103 kB)\n",
            "\u001b[2K   \u001b[90m━━━━━━━━━━━━━━━━━━━━━━━━━━━━━━━━━━━━━━━━\u001b[0m \u001b[32m103.3/103.3 kB\u001b[0m \u001b[31m6.0 MB/s\u001b[0m eta \u001b[36m0:00:00\u001b[0m\n",
            "\u001b[?25hDownloading onnxruntime-1.22.1-cp312-cp312-manylinux_2_27_x86_64.manylinux_2_28_x86_64.whl (16.5 MB)\n",
            "\u001b[2K   \u001b[90m━━━━━━━━━━━━━━━━━━━━━━━━━━━━━━━━━━━━━━━━\u001b[0m \u001b[32m16.5/16.5 MB\u001b[0m \u001b[31m87.6 MB/s\u001b[0m eta \u001b[36m0:00:00\u001b[0m\n",
            "\u001b[?25hDownloading opentelemetry_exporter_otlp_proto_grpc-1.36.0-py3-none-any.whl (18 kB)\n",
            "Downloading opentelemetry_exporter_otlp_proto_common-1.36.0-py3-none-any.whl (18 kB)\n",
            "Downloading opentelemetry_proto-1.36.0-py3-none-any.whl (72 kB)\n",
            "\u001b[2K   \u001b[90m━━━━━━━━━━━━━━━━━━━━━━━━━━━━━━━━━━━━━━━━\u001b[0m \u001b[32m72.5/72.5 kB\u001b[0m \u001b[31m4.6 MB/s\u001b[0m eta \u001b[36m0:00:00\u001b[0m\n",
            "\u001b[?25hDownloading overrides-7.7.0-py3-none-any.whl (17 kB)\n",
            "Downloading posthog-5.4.0-py3-none-any.whl (105 kB)\n",
            "\u001b[2K   \u001b[90m━━━━━━━━━━━━━━━━━━━━━━━━━━━━━━━━━━━━━━━━\u001b[0m \u001b[32m105.4/105.4 kB\u001b[0m \u001b[31m7.2 MB/s\u001b[0m eta \u001b[36m0:00:00\u001b[0m\n",
            "\u001b[?25hDownloading pybase64-1.4.2-cp312-cp312-manylinux1_x86_64.manylinux2014_x86_64.manylinux_2_17_x86_64.manylinux_2_5_x86_64.whl (71 kB)\n",
            "\u001b[2K   \u001b[90m━━━━━━━━━━━━━━━━━━━━━━━━━━━━━━━━━━━━━━━━\u001b[0m \u001b[32m71.6/71.6 kB\u001b[0m \u001b[31m5.5 MB/s\u001b[0m eta \u001b[36m0:00:00\u001b[0m\n",
            "\u001b[?25hDownloading backoff-2.2.1-py3-none-any.whl (15 kB)\n",
            "Downloading durationpy-0.10-py3-none-any.whl (3.9 kB)\n",
            "Downloading httptools-0.6.4-cp312-cp312-manylinux_2_5_x86_64.manylinux1_x86_64.manylinux_2_17_x86_64.manylinux2014_x86_64.whl (510 kB)\n",
            "\u001b[2K   \u001b[90m━━━━━━━━━━━━━━━━━━━━━━━━━━━━━━━━━━━━━━━━\u001b[0m \u001b[32m510.8/510.8 kB\u001b[0m \u001b[31m29.3 MB/s\u001b[0m eta \u001b[36m0:00:00\u001b[0m\n",
            "\u001b[?25hDownloading uvloop-0.21.0-cp312-cp312-manylinux_2_17_x86_64.manylinux2014_x86_64.whl (4.7 MB)\n",
            "\u001b[2K   \u001b[90m━━━━━━━━━━━━━━━━━━━━━━━━━━━━━━━━━━━━━━━━\u001b[0m \u001b[32m4.7/4.7 MB\u001b[0m \u001b[31m92.7 MB/s\u001b[0m eta \u001b[36m0:00:00\u001b[0m\n",
            "\u001b[?25hDownloading watchfiles-1.1.0-cp312-cp312-manylinux_2_17_x86_64.manylinux2014_x86_64.whl (452 kB)\n",
            "\u001b[2K   \u001b[90m━━━━━━━━━━━━━━━━━━━━━━━━━━━━━━━━━━━━━━━━\u001b[0m \u001b[32m452.2/452.2 kB\u001b[0m \u001b[31m28.5 MB/s\u001b[0m eta \u001b[36m0:00:00\u001b[0m\n",
            "\u001b[?25hDownloading coloredlogs-15.0.1-py2.py3-none-any.whl (46 kB)\n",
            "\u001b[2K   \u001b[90m━━━━━━━━━━━━━━━━━━━━━━━━━━━━━━━━━━━━━━━━\u001b[0m \u001b[32m46.0/46.0 kB\u001b[0m \u001b[31m2.7 MB/s\u001b[0m eta \u001b[36m0:00:00\u001b[0m\n",
            "\u001b[?25hDownloading humanfriendly-10.0-py2.py3-none-any.whl (86 kB)\n",
            "\u001b[2K   \u001b[90m━━━━━━━━━━━━━━━━━━━━━━━━━━━━━━━━━━━━━━━━\u001b[0m \u001b[32m86.8/86.8 kB\u001b[0m \u001b[31m6.0 MB/s\u001b[0m eta \u001b[36m0:00:00\u001b[0m\n",
            "\u001b[?25hBuilding wheels for collected packages: pypika\n",
            "  Building wheel for pypika (pyproject.toml) ... \u001b[?25l\u001b[?25hdone\n",
            "  Created wheel for pypika: filename=pypika-0.48.9-py2.py3-none-any.whl size=53803 sha256=66e58fa7cc1b59d9f44ec3ff58b30fdfe30ba783deffefc3ed259596779f196c\n",
            "  Stored in directory: /root/.cache/pip/wheels/d5/3d/69/8d68d249cd3de2584f226e27fd431d6344f7d70fd856ebd01b\n",
            "Successfully built pypika\n",
            "Installing collected packages: pypika, durationpy, uvloop, pybase64, overrides, opentelemetry-proto, mmh3, humanfriendly, httptools, bcrypt, backoff, watchfiles, posthog, opentelemetry-exporter-otlp-proto-common, coloredlogs, onnxruntime, kubernetes, opentelemetry-exporter-otlp-proto-grpc, chromadb\n",
            "Successfully installed backoff-2.2.1 bcrypt-4.3.0 chromadb-1.0.20 coloredlogs-15.0.1 durationpy-0.10 httptools-0.6.4 humanfriendly-10.0 kubernetes-33.1.0 mmh3-5.2.0 onnxruntime-1.22.1 opentelemetry-exporter-otlp-proto-common-1.36.0 opentelemetry-exporter-otlp-proto-grpc-1.36.0 opentelemetry-proto-1.36.0 overrides-7.7.0 posthog-5.4.0 pybase64-1.4.2 pypika-0.48.9 uvloop-0.21.0 watchfiles-1.1.0\n"
          ]
        },
        {
          "output_type": "display_data",
          "data": {
            "application/vnd.colab-display-data+json": {
              "pip_warning": {
                "packages": [
                  "opentelemetry"
                ]
              },
              "id": "93f02fe2e13248e8b0080c22a4a6c1c0"
            }
          },
          "metadata": {}
        },
        {
          "output_type": "stream",
          "name": "stdout",
          "text": [
            "Requirement already satisfied: tiktoken in /usr/local/lib/python3.12/dist-packages (0.11.0)\n",
            "Requirement already satisfied: regex>=2022.1.18 in /usr/local/lib/python3.12/dist-packages (from tiktoken) (2024.11.6)\n",
            "Requirement already satisfied: requests>=2.26.0 in /usr/local/lib/python3.12/dist-packages (from tiktoken) (2.32.4)\n",
            "Requirement already satisfied: charset_normalizer<4,>=2 in /usr/local/lib/python3.12/dist-packages (from requests>=2.26.0->tiktoken) (3.4.3)\n",
            "Requirement already satisfied: idna<4,>=2.5 in /usr/local/lib/python3.12/dist-packages (from requests>=2.26.0->tiktoken) (3.10)\n",
            "Requirement already satisfied: urllib3<3,>=1.21.1 in /usr/local/lib/python3.12/dist-packages (from requests>=2.26.0->tiktoken) (2.5.0)\n",
            "Requirement already satisfied: certifi>=2017.4.17 in /usr/local/lib/python3.12/dist-packages (from requests>=2.26.0->tiktoken) (2025.8.3)\n"
          ]
        }
      ]
    },
    {
      "cell_type": "code",
      "source": [
        "# Install packages for web scraping and utilities\n",
        "!pip install beautifulsoup4\n",
        "!pip install requests\n",
        "!pip install pandas numpy"
      ],
      "metadata": {
        "colab": {
          "base_uri": "https://localhost:8080/"
        },
        "id": "mqymivsX907H",
        "outputId": "a4ba9ec6-0207-4a77-e54c-67cae949c6f7"
      },
      "execution_count": null,
      "outputs": [
        {
          "output_type": "stream",
          "name": "stdout",
          "text": [
            "Requirement already satisfied: beautifulsoup4 in /usr/local/lib/python3.12/dist-packages (4.13.4)\n",
            "Requirement already satisfied: soupsieve>1.2 in /usr/local/lib/python3.12/dist-packages (from beautifulsoup4) (2.7)\n",
            "Requirement already satisfied: typing-extensions>=4.0.0 in /usr/local/lib/python3.12/dist-packages (from beautifulsoup4) (4.14.1)\n",
            "Requirement already satisfied: requests in /usr/local/lib/python3.12/dist-packages (2.32.4)\n",
            "Requirement already satisfied: charset_normalizer<4,>=2 in /usr/local/lib/python3.12/dist-packages (from requests) (3.4.3)\n",
            "Requirement already satisfied: idna<4,>=2.5 in /usr/local/lib/python3.12/dist-packages (from requests) (3.10)\n",
            "Requirement already satisfied: urllib3<3,>=1.21.1 in /usr/local/lib/python3.12/dist-packages (from requests) (2.5.0)\n",
            "Requirement already satisfied: certifi>=2017.4.17 in /usr/local/lib/python3.12/dist-packages (from requests) (2025.8.3)\n",
            "Requirement already satisfied: pandas in /usr/local/lib/python3.12/dist-packages (2.2.2)\n",
            "Requirement already satisfied: numpy in /usr/local/lib/python3.12/dist-packages (2.0.2)\n",
            "Requirement already satisfied: python-dateutil>=2.8.2 in /usr/local/lib/python3.12/dist-packages (from pandas) (2.9.0.post0)\n",
            "Requirement already satisfied: pytz>=2020.1 in /usr/local/lib/python3.12/dist-packages (from pandas) (2025.2)\n",
            "Requirement already satisfied: tzdata>=2022.7 in /usr/local/lib/python3.12/dist-packages (from pandas) (2025.2)\n",
            "Requirement already satisfied: six>=1.5 in /usr/local/lib/python3.12/dist-packages (from python-dateutil>=2.8.2->pandas) (1.17.0)\n"
          ]
        }
      ]
    },
    {
      "cell_type": "code",
      "source": [
        "!pip install langchain-community"
      ],
      "metadata": {
        "colab": {
          "base_uri": "https://localhost:8080/"
        },
        "id": "_cDktBCv-WyZ",
        "outputId": "a8f412c0-ea4e-4bc9-9cb2-bb524333c0b0"
      },
      "execution_count": null,
      "outputs": [
        {
          "output_type": "stream",
          "name": "stdout",
          "text": [
            "Collecting langchain-community\n",
            "  Downloading langchain_community-0.3.27-py3-none-any.whl.metadata (2.9 kB)\n",
            "Requirement already satisfied: langchain-core<1.0.0,>=0.3.66 in /usr/local/lib/python3.12/dist-packages (from langchain-community) (0.3.74)\n",
            "Requirement already satisfied: langchain<1.0.0,>=0.3.26 in /usr/local/lib/python3.12/dist-packages (from langchain-community) (0.3.27)\n",
            "Requirement already satisfied: SQLAlchemy<3,>=1.4 in /usr/local/lib/python3.12/dist-packages (from langchain-community) (2.0.43)\n",
            "Requirement already satisfied: requests<3,>=2 in /usr/local/lib/python3.12/dist-packages (from langchain-community) (2.32.4)\n",
            "Requirement already satisfied: PyYAML>=5.3 in /usr/local/lib/python3.12/dist-packages (from langchain-community) (6.0.2)\n",
            "Requirement already satisfied: aiohttp<4.0.0,>=3.8.3 in /usr/local/lib/python3.12/dist-packages (from langchain-community) (3.12.15)\n",
            "Requirement already satisfied: tenacity!=8.4.0,<10,>=8.1.0 in /usr/local/lib/python3.12/dist-packages (from langchain-community) (8.5.0)\n",
            "Collecting dataclasses-json<0.7,>=0.5.7 (from langchain-community)\n",
            "  Downloading dataclasses_json-0.6.7-py3-none-any.whl.metadata (25 kB)\n",
            "Requirement already satisfied: pydantic-settings<3.0.0,>=2.4.0 in /usr/local/lib/python3.12/dist-packages (from langchain-community) (2.10.1)\n",
            "Requirement already satisfied: langsmith>=0.1.125 in /usr/local/lib/python3.12/dist-packages (from langchain-community) (0.4.14)\n",
            "Requirement already satisfied: httpx-sse<1.0.0,>=0.4.0 in /usr/local/lib/python3.12/dist-packages (from langchain-community) (0.4.1)\n",
            "Requirement already satisfied: numpy>=1.26.2 in /usr/local/lib/python3.12/dist-packages (from langchain-community) (2.0.2)\n",
            "Requirement already satisfied: aiohappyeyeballs>=2.5.0 in /usr/local/lib/python3.12/dist-packages (from aiohttp<4.0.0,>=3.8.3->langchain-community) (2.6.1)\n",
            "Requirement already satisfied: aiosignal>=1.4.0 in /usr/local/lib/python3.12/dist-packages (from aiohttp<4.0.0,>=3.8.3->langchain-community) (1.4.0)\n",
            "Requirement already satisfied: attrs>=17.3.0 in /usr/local/lib/python3.12/dist-packages (from aiohttp<4.0.0,>=3.8.3->langchain-community) (25.3.0)\n",
            "Requirement already satisfied: frozenlist>=1.1.1 in /usr/local/lib/python3.12/dist-packages (from aiohttp<4.0.0,>=3.8.3->langchain-community) (1.7.0)\n",
            "Requirement already satisfied: multidict<7.0,>=4.5 in /usr/local/lib/python3.12/dist-packages (from aiohttp<4.0.0,>=3.8.3->langchain-community) (6.6.4)\n",
            "Requirement already satisfied: propcache>=0.2.0 in /usr/local/lib/python3.12/dist-packages (from aiohttp<4.0.0,>=3.8.3->langchain-community) (0.3.2)\n",
            "Requirement already satisfied: yarl<2.0,>=1.17.0 in /usr/local/lib/python3.12/dist-packages (from aiohttp<4.0.0,>=3.8.3->langchain-community) (1.20.1)\n",
            "Collecting marshmallow<4.0.0,>=3.18.0 (from dataclasses-json<0.7,>=0.5.7->langchain-community)\n",
            "  Downloading marshmallow-3.26.1-py3-none-any.whl.metadata (7.3 kB)\n",
            "Collecting typing-inspect<1,>=0.4.0 (from dataclasses-json<0.7,>=0.5.7->langchain-community)\n",
            "  Downloading typing_inspect-0.9.0-py3-none-any.whl.metadata (1.5 kB)\n",
            "Requirement already satisfied: langchain-text-splitters<1.0.0,>=0.3.9 in /usr/local/lib/python3.12/dist-packages (from langchain<1.0.0,>=0.3.26->langchain-community) (0.3.9)\n",
            "Requirement already satisfied: pydantic<3.0.0,>=2.7.4 in /usr/local/lib/python3.12/dist-packages (from langchain<1.0.0,>=0.3.26->langchain-community) (2.11.7)\n",
            "Requirement already satisfied: jsonpatch<2.0,>=1.33 in /usr/local/lib/python3.12/dist-packages (from langchain-core<1.0.0,>=0.3.66->langchain-community) (1.33)\n",
            "Requirement already satisfied: typing-extensions>=4.7 in /usr/local/lib/python3.12/dist-packages (from langchain-core<1.0.0,>=0.3.66->langchain-community) (4.14.1)\n",
            "Requirement already satisfied: packaging>=23.2 in /usr/local/lib/python3.12/dist-packages (from langchain-core<1.0.0,>=0.3.66->langchain-community) (25.0)\n",
            "Requirement already satisfied: httpx<1,>=0.23.0 in /usr/local/lib/python3.12/dist-packages (from langsmith>=0.1.125->langchain-community) (0.28.1)\n",
            "Requirement already satisfied: orjson>=3.9.14 in /usr/local/lib/python3.12/dist-packages (from langsmith>=0.1.125->langchain-community) (3.11.2)\n",
            "Requirement already satisfied: requests-toolbelt>=1.0.0 in /usr/local/lib/python3.12/dist-packages (from langsmith>=0.1.125->langchain-community) (1.0.0)\n",
            "Requirement already satisfied: zstandard>=0.23.0 in /usr/local/lib/python3.12/dist-packages (from langsmith>=0.1.125->langchain-community) (0.24.0)\n",
            "Requirement already satisfied: python-dotenv>=0.21.0 in /usr/local/lib/python3.12/dist-packages (from pydantic-settings<3.0.0,>=2.4.0->langchain-community) (1.1.1)\n",
            "Requirement already satisfied: typing-inspection>=0.4.0 in /usr/local/lib/python3.12/dist-packages (from pydantic-settings<3.0.0,>=2.4.0->langchain-community) (0.4.1)\n",
            "Requirement already satisfied: charset_normalizer<4,>=2 in /usr/local/lib/python3.12/dist-packages (from requests<3,>=2->langchain-community) (3.4.3)\n",
            "Requirement already satisfied: idna<4,>=2.5 in /usr/local/lib/python3.12/dist-packages (from requests<3,>=2->langchain-community) (3.10)\n",
            "Requirement already satisfied: urllib3<3,>=1.21.1 in /usr/local/lib/python3.12/dist-packages (from requests<3,>=2->langchain-community) (2.5.0)\n",
            "Requirement already satisfied: certifi>=2017.4.17 in /usr/local/lib/python3.12/dist-packages (from requests<3,>=2->langchain-community) (2025.8.3)\n",
            "Requirement already satisfied: greenlet>=1 in /usr/local/lib/python3.12/dist-packages (from SQLAlchemy<3,>=1.4->langchain-community) (3.2.4)\n",
            "Requirement already satisfied: anyio in /usr/local/lib/python3.12/dist-packages (from httpx<1,>=0.23.0->langsmith>=0.1.125->langchain-community) (4.10.0)\n",
            "Requirement already satisfied: httpcore==1.* in /usr/local/lib/python3.12/dist-packages (from httpx<1,>=0.23.0->langsmith>=0.1.125->langchain-community) (1.0.9)\n",
            "Requirement already satisfied: h11>=0.16 in /usr/local/lib/python3.12/dist-packages (from httpcore==1.*->httpx<1,>=0.23.0->langsmith>=0.1.125->langchain-community) (0.16.0)\n",
            "Requirement already satisfied: jsonpointer>=1.9 in /usr/local/lib/python3.12/dist-packages (from jsonpatch<2.0,>=1.33->langchain-core<1.0.0,>=0.3.66->langchain-community) (3.0.0)\n",
            "Requirement already satisfied: annotated-types>=0.6.0 in /usr/local/lib/python3.12/dist-packages (from pydantic<3.0.0,>=2.7.4->langchain<1.0.0,>=0.3.26->langchain-community) (0.7.0)\n",
            "Requirement already satisfied: pydantic-core==2.33.2 in /usr/local/lib/python3.12/dist-packages (from pydantic<3.0.0,>=2.7.4->langchain<1.0.0,>=0.3.26->langchain-community) (2.33.2)\n",
            "Collecting mypy-extensions>=0.3.0 (from typing-inspect<1,>=0.4.0->dataclasses-json<0.7,>=0.5.7->langchain-community)\n",
            "  Downloading mypy_extensions-1.1.0-py3-none-any.whl.metadata (1.1 kB)\n",
            "Requirement already satisfied: sniffio>=1.1 in /usr/local/lib/python3.12/dist-packages (from anyio->httpx<1,>=0.23.0->langsmith>=0.1.125->langchain-community) (1.3.1)\n",
            "Downloading langchain_community-0.3.27-py3-none-any.whl (2.5 MB)\n",
            "\u001b[2K   \u001b[90m━━━━━━━━━━━━━━━━━━━━━━━━━━━━━━━━━━━━━━━━\u001b[0m \u001b[32m2.5/2.5 MB\u001b[0m \u001b[31m30.0 MB/s\u001b[0m eta \u001b[36m0:00:00\u001b[0m\n",
            "\u001b[?25hDownloading dataclasses_json-0.6.7-py3-none-any.whl (28 kB)\n",
            "Downloading marshmallow-3.26.1-py3-none-any.whl (50 kB)\n",
            "\u001b[2K   \u001b[90m━━━━━━━━━━━━━━━━━━━━━━━━━━━━━━━━━━━━━━━━\u001b[0m \u001b[32m50.9/50.9 kB\u001b[0m \u001b[31m3.5 MB/s\u001b[0m eta \u001b[36m0:00:00\u001b[0m\n",
            "\u001b[?25hDownloading typing_inspect-0.9.0-py3-none-any.whl (8.8 kB)\n",
            "Downloading mypy_extensions-1.1.0-py3-none-any.whl (5.0 kB)\n",
            "Installing collected packages: mypy-extensions, marshmallow, typing-inspect, dataclasses-json, langchain-community\n",
            "Successfully installed dataclasses-json-0.6.7 langchain-community-0.3.27 marshmallow-3.26.1 mypy-extensions-1.1.0 typing-inspect-0.9.0\n"
          ]
        }
      ]
    },
    {
      "cell_type": "markdown",
      "source": [
        "### Step 2: Import Required Libraries"
      ],
      "metadata": {
        "id": "hpe3F5F19-Bk"
      }
    },
    {
      "cell_type": "code",
      "source": [
        "import os\n",
        "from langchain_openai import ChatOpenAI\n",
        "from langchain.schema import HumanMessage, SystemMessage\n",
        "from langchain.prompts import ChatPromptTemplate"
      ],
      "metadata": {
        "id": "irVMez_v-CiD"
      },
      "execution_count": null,
      "outputs": []
    },
    {
      "cell_type": "code",
      "source": [
        "from langchain.chains import LLMChain\n",
        "from langchain.memory import ConversationBufferMemory\n",
        "from langchain.document_loaders import TextLoader\n",
        "from langchain.text_splitter import RecursiveCharacterTextSplitter"
      ],
      "metadata": {
        "id": "IFhJi-mV-GxI"
      },
      "execution_count": null,
      "outputs": []
    },
    {
      "cell_type": "markdown",
      "source": [
        "## Basic Configuration\n",
        "\n",
        "### Step 3: Configure OpenRouter\n",
        "\n",
        "First, you need to get an API key from [OpenRouter](https://openrouter.ai/). Then set it up in Colab:\n"
      ],
      "metadata": {
        "id": "veauEqO3-Oh8"
      }
    },
    {
      "cell_type": "code",
      "source": [
        "# Set your OpenRouter API key (replace with your actual key)\n",
        "import getpass\n",
        "api_key = getpass.getpass(\"Enter your OpenRouter API key: \")\n",
        "#os.environ[\"OPENAI_API_KEY\"] = \"sk-or-v1-d364066ceb3339067def1c2ca462d2f8c5e760aac5b68632b124a7d198ab8bebi\"\n",
        "os.environ[\"OPENAI_API_KEY\"] = api_key"
      ],
      "metadata": {
        "colab": {
          "base_uri": "https://localhost:8080/"
        },
        "id": "9ZF612-D-NnU",
        "outputId": "71685bc6-c6ef-485e-a88c-8fc89645c61b"
      },
      "execution_count": null,
      "outputs": [
        {
          "name": "stdout",
          "output_type": "stream",
          "text": [
            "Enter your OpenRouter API key: ··········\n"
          ]
        }
      ]
    },
    {
      "cell_type": "code",
      "source": [
        "# Configure the LLM with OpenRouter\n",
        "llm = ChatOpenAI(\n",
        "    base_url=\"https://openrouter.ai/api/v1\",\n",
        "    model=\"openai/gpt-oss-20b:free\",\n",
        "    temperature=0.7\n",
        ")"
      ],
      "metadata": {
        "id": "EuZQFuLfKoba"
      },
      "execution_count": null,
      "outputs": []
    },
    {
      "cell_type": "markdown",
      "source": [
        "### Step 4: Test Basic Connection"
      ],
      "metadata": {
        "id": "B76G7OSnK6j8"
      }
    },
    {
      "cell_type": "code",
      "source": [
        "# Test the connection\n",
        "response = llm.invoke([HumanMessage(content=\"Hello! Can you confirm the connection is working?\")])\n",
        "print(response.content)"
      ],
      "metadata": {
        "colab": {
          "base_uri": "https://localhost:8080/"
        },
        "id": "ZLM8zg8JK8RE",
        "outputId": "d4a797cd-0fd1-45d8-ba41-f192c25b98a7"
      },
      "execution_count": null,
      "outputs": [
        {
          "output_type": "stream",
          "name": "stdout",
          "text": [
            "Hello! Yes, the connection is working—happy to help with whatever you need.\n"
          ]
        }
      ]
    },
    {
      "cell_type": "markdown",
      "source": [
        "## Scenario 1: Customer Support Chatbot\n",
        "\n",
        "### Real-World Application: E-commerce Customer Service\n",
        "\n",
        "Let's build a customer support chatbot for an online electronics store."
      ],
      "metadata": {
        "id": "aplMkGxLK-1j"
      }
    },
    {
      "cell_type": "code",
      "source": [
        "# Create a system prompt for customer support\n",
        "system_prompt = \"\"\"You are a helpful customer support agent for TechStore,\n",
        "an online electronics retailer. You should be friendly, professional,\n",
        "and knowledgeable about common issues like orders, returns, and products.\"\"\""
      ],
      "metadata": {
        "id": "YWE_UNLhLERK"
      },
      "execution_count": null,
      "outputs": []
    },
    {
      "cell_type": "code",
      "source": [
        "# Create a conversation memory\n",
        "memory = ConversationBufferMemory(return_messages=True)"
      ],
      "metadata": {
        "colab": {
          "base_uri": "https://localhost:8080/"
        },
        "id": "8kPgsPzJLHPS",
        "outputId": "c97e8393-47de-4242-8e69-db0bc5137714"
      },
      "execution_count": null,
      "outputs": [
        {
          "output_type": "stream",
          "name": "stderr",
          "text": [
            "/tmp/ipython-input-1349388406.py:2: LangChainDeprecationWarning: Please see the migration guide at: https://python.langchain.com/docs/versions/migrating_memory/\n",
            "  memory = ConversationBufferMemory(return_messages=True)\n"
          ]
        }
      ]
    },
    {
      "cell_type": "code",
      "source": [
        "# Create the customer support chain\n",
        "support_prompt = ChatPromptTemplate.from_messages([\n",
        "    (\"system\", system_prompt),\n",
        "    (\"human\", \"{input}\")\n",
        "])"
      ],
      "metadata": {
        "id": "T_q-dq3_LRFx"
      },
      "execution_count": null,
      "outputs": []
    },
    {
      "cell_type": "code",
      "source": [
        "from langchain_core.runnables import RunnableSequence\n",
        "from operator import itemgetter\n",
        "\n",
        "# Create the customer support chain with memory integration\n",
        "# This pattern loads memory, formats the prompt, invokes the LLM, and saves the context\n",
        "support_chain = (\n",
        "    {\n",
        "        \"input\": itemgetter(\"input\"),\n",
        "        \"chat_history\": lambda x: memory.load_memory_variables({})[\"history\"]\n",
        "    }\n",
        "    | support_prompt\n",
        "    | llm\n",
        ")\n",
        "\n",
        "# Note: Saving the context back to memory after the response\n",
        "# is handled separately when invoking the chain in the next step."
      ],
      "metadata": {
        "id": "lujYkrG8LTJr"
      },
      "execution_count": null,
      "outputs": []
    },
    {
      "cell_type": "code",
      "source": [
        "# Test the customer support bot\n",
        "response = support_chain.invoke({\"input\": \"I ordered a laptop 3 days ago but haven't received shipping confirmation\"})\n",
        "print(response.content) # Use .content to access the response text"
      ],
      "metadata": {
        "colab": {
          "base_uri": "https://localhost:8080/"
        },
        "id": "1ezGqhpGLh0S",
        "outputId": "74240080-33be-42b7-e486-8d829bf76ffa"
      },
      "execution_count": null,
      "outputs": [
        {
          "output_type": "stream",
          "name": "stdout",
          "text": [
            "Hi there! I’m sorry to hear you haven’t received a shipping confirmation yet. Let’s get that sorted out right away.\n",
            "\n",
            "Could you please provide your order number or the email address you used to place the order? With that information, I can:\n",
            "\n",
            "1. **Check the status** of your shipment in our system.\n",
            "2. **Verify** that the confirmation email was sent and wasn’t caught in spam/junk folders.\n",
            "3. **Send a fresh confirmation** if necessary.\n",
            "\n",
            "If you’d like, I can also walk you through how to track your order on our website once the package is on its way.\n",
            "\n",
            "Thank you for choosing TechStore, and I’ll make sure we get your laptop’s shipping details to you as soon as possible!\n"
          ]
        }
      ]
    },
    {
      "cell_type": "markdown",
      "source": [
        "### Advanced Customer Support Features"
      ],
      "metadata": {
        "id": "ZH2DTxJ1L8qL"
      }
    },
    {
      "cell_type": "code",
      "source": [
        "# Create a knowledge base for common issues\n",
        "knowledge_base = {\n",
        "    \"shipping\": \"Standard shipping takes 3-5 business days. Express shipping takes 1-2 business days.\",\n",
        "    \"returns\": \"You can return items within 30 days of purchase. Items must be in original condition.\",\n",
        "    \"warranty\": \"All electronics come with a 1-year manufacturer warranty.\"\n",
        "}"
      ],
      "metadata": {
        "id": "CzRI5FX9L_Kq"
      },
      "execution_count": null,
      "outputs": []
    },
    {
      "cell_type": "code",
      "source": [
        "# Enhanced support chain with knowledge lookup\n",
        "def enhanced_support_response(question):\n",
        "    # Simple keyword matching for demo\n",
        "    for key, info in knowledge_base.items():\n",
        "        if key.lower() in question.lower():\n",
        "            return f\"Based on our policy: {info}\\n\\nLet me provide more specific help with your question.\"\n",
        "    return \"Let me help you with that question.\""
      ],
      "metadata": {
        "id": "nqtcUVJPMBhS"
      },
      "execution_count": null,
      "outputs": []
    },
    {
      "cell_type": "code",
      "source": [
        "# Test enhanced support\n",
        "kb_info = enhanced_support_response(\"What's your return policy?\")\n",
        "full_response = support_chain.invoke({\"input\": f\"{kb_info}\\n\\nCustomer question: What's your return policy?\"}) # Use .invoke()\n",
        "print(full_response.content) # Use .content to access the response text"
      ],
      "metadata": {
        "colab": {
          "base_uri": "https://localhost:8080/"
        },
        "id": "k1hCm_ILMJt5",
        "outputId": "1a73ebe1-110a-490d-8b16-87ba1338bab3"
      },
      "execution_count": null,
      "outputs": [
        {
          "output_type": "stream",
          "name": "stdout",
          "text": [
            "Absolutely! Here’s a quick of TechStore’s return policy:\n",
            "\n",
            "| **Item** | **Timeframe** | **Condition** | **Refund/Replacement** |\n",
            "|----------|---------------|---------------|------------------------|\n",
            "| All items | 30 days from purchase or 30 days from delivery | New condition, with original packaging and tags | Full refund (to original payment method) |\n",
            "| Digital products | 30 days from purchase | Unused | Full refund |\n",
            "| Opened or used items | 30 days from delivery | In original condition | Full refund *only if* the item is defective or not as described. |\n",
            "\n",
            "### How to Return an Item\n",
            "1. **Log in** to your account and go to **Orders**.  \n",
            "2. Select the item you’d like to return and click **Return**.  \n",
            "3. Print the prepaid return label that’s emailed to you.  \n",
            "4. Pack the item securely in its original packaging.  \n",
            "5. Drop it off at the nearest shipping location.\n",
            "\n",
            "### What Happens After We Receive the Return\n",
            "- We’ll inspect the item.\n",
            "- If it meets the return criteria, we’ll issue a **full refund** within 5–7 business days.\n",
            "- If the item is defective or not as described, we’ll process a **replacement** or refund, whichever you prefer.\n",
            "\n",
            "### Exceptions\n",
            "- **Final sale items** (marked as such) are non‑returnable.  \n",
            "- **Custom‑ordered items** (e.g., personalized engraving) are also non‑returnable unless defective.  \n",
            "- **Perishable or intimate items** (e.g., batteries, undergarments) are non‑returnable.\n",
            "\n",
            "If you need any help with a return or have a specific question about your order, just let me know—I’m here to help!\n"
          ]
        }
      ]
    },
    {
      "cell_type": "markdown",
      "source": [
        "## Scenario 2: Document Analysis & Summarization\n",
        "\n",
        "### Real-World Application: Legal Document Review\n",
        "\n",
        "Let's create a system that can analyze and summarize legal contracts or business documents."
      ],
      "metadata": {
        "id": "GOxGv9QnMeAD"
      }
    },
    {
      "cell_type": "code",
      "source": [
        "# Create sample document content (you can upload files in Colab)\n",
        "sample_contract = \"\"\"\n",
        "EMPLOYMENT AGREEMENT\n",
        "This Employment Agreement is entered into between TechCorp Inc. and John Smith.\n",
        "Position: Senior Software Engineer\n",
        "Start Date: January 15, 2024\n",
        "Salary: $120,000 annually\n",
        "Benefits: Health insurance, dental coverage, 401k matching up to 4%\n",
        "Vacation: 20 days annually\n",
        "Termination: Either party may terminate with 30 days notice\n",
        "Non-compete: 6 months restriction in same industry within 50 miles\n",
        "\"\"\""
      ],
      "metadata": {
        "id": "oGG_xxEfMi6z"
      },
      "execution_count": null,
      "outputs": []
    },
    {
      "cell_type": "code",
      "source": [
        "# Create document analyzer\n",
        "doc_analyzer_prompt = ChatPromptTemplate.from_template(\"\"\"\n",
        "Analyze the following document and provide:\n",
        "1. Key terms and conditions\n",
        "2. Important dates and numbers\n",
        "3. Potential concerns or red flags\n",
        "4. Brief summary\n",
        "\n",
        "Document: {document}\n",
        "\"\"\")"
      ],
      "metadata": {
        "id": "ak6vtyF8MmWa"
      },
      "execution_count": null,
      "outputs": []
    },
    {
      "cell_type": "code",
      "source": [
        "doc_chain = LLMChain(llm=llm, prompt=doc_analyzer_prompt)\n",
        "analysis = doc_chain.run(document=sample_contract)\n",
        "print(analysis)"
      ],
      "metadata": {
        "colab": {
          "base_uri": "https://localhost:8080/"
        },
        "id": "xJ28ODO-Mpij",
        "outputId": "7213bd98-2a1c-4f94-c20b-c1a298904d6c"
      },
      "execution_count": null,
      "outputs": [
        {
          "output_type": "stream",
          "name": "stderr",
          "text": [
            "/tmp/ipython-input-4278946011.py:2: LangChainDeprecationWarning: The method `Chain.run` was deprecated in langchain 0.1.0 and will be removed in 1.0. Use :meth:`~invoke` instead.\n",
            "  analysis = doc_chain.run(document=sample_contract)\n"
          ]
        },
        {
          "output_type": "stream",
          "name": "stdout",
          "text": [
            "**1. Key Terms & Conditions**\n",
            "\n",
            "| Element | Detail |\n",
            "|---------|--------|\n",
            "| **Parties** | TechCorp Inc. (employer) & John Smith (employee) |\n",
            "| **Position** | Senior Software Engineer |\n",
            "| **Start Date** | January 15, 2024 |\n",
            "| **Compensation** | $120,000 per year (annual salary) |\n",
            "| **Benefits** | • Health insurance<br>• Dental coverage<br>• 401(k) matching up to 4% of employee contributions |\n",
            "| **Vacation** | 20 paid days per calendar year |\n",
            "| **Termination** | Either party may terminate with **30‑day written notice** |\n",
            "| **Non‑Compete** | • 6‑month restriction on working in the same industry<br>• Geographic scope: within 50 miles of the employer’s principal place of business |\n",
            "\n",
            "**2. Important Dates & Numbers**\n",
            "\n",
            "| Item | Value |\n",
            "|------|-------|\n",
            "| Start Date | January 15, 2024 |\n",
            "| Salary | $120,000/yr |\n",
            "| 401(k) Match | Up to 4% of employee contributions |\n",
            "| Vacation Days | 20 days/year |\n",
            "| Termination Notice | 30 days |\n",
            "| Non‑Compete Duration | 6 months |\n",
            "| Non‑Compete Radius | 50 miles |\n",
            "\n",
            "**3. Potential Concerns / Red Flags**\n",
            "\n",
            "| Issue | Why it matters |\n",
            "|-------|----------------|\n",
            "| **Non‑Compete Scope** | 6‑month restriction + 50‑mile radius can limit future job options, especially in a concentrated tech hub. |\n",
            "| **No Probation or Performance Metrics** | The agreement doesn’t specify a probation period or clear performance benchmarks, which could leave the employee vulnerable to arbitrary termination. |\n",
            "| **Missing Confidentiality / IP Clauses** | No mention of confidentiality obligations or ownership of work‑produced IP, which is common in senior engineering roles. |\n",
            "| **Benefit Details** | Health/dental and 401(k) are listed, but no information on cost sharing, eligibility, or plan details. |\n",
            "| **Termination Notice** | 30‑day notice is standard, but the agreement doesn’t describe severance, last‑day pay, or post‑employment obligations beyond the non‑compete. |\n",
            "| **Limited Salary & Benefits Info** | No pay frequency, overtime policy, or bonus structure is provided. |\n",
            "\n",
            "**4. Brief Summary**\n",
            "\n",
            "The document is a basic employment agreement between TechCorp Inc. and John Smith for the role of Senior Software Engineer, effective January 15, 2024. It sets a $120,000 annual salary, standard health/dental benefits, a 401(k) match up to 4%, and 20 paid vacation days. Either party may terminate the employment with 30 days’ written notice. Post‑termination, John is bound by a 6‑month non‑compete that restricts him from working in the same industry within a 50‑mile radius. The agreement omits typical clauses on confidentiality, IP ownership, severance, and performance expectations, which could be points for negotiation or future legal scrutiny.\n"
          ]
        }
      ]
    },
    {
      "cell_type": "markdown",
      "source": [
        "### Document Splitting and Processing"
      ],
      "metadata": {
        "id": "zSBl-4tdMx6p"
      }
    },
    {
      "cell_type": "code",
      "source": [
        "# For larger documents, split them into chunks\n",
        "text_splitter = RecursiveCharacterTextSplitter(\n",
        "    chunk_size=1000,\n",
        "    chunk_overlap=200\n",
        ")"
      ],
      "metadata": {
        "id": "gpi5NwgPMz3D"
      },
      "execution_count": null,
      "outputs": []
    },
    {
      "cell_type": "code",
      "source": [
        "# Create a document summarization chain\n",
        "summary_prompt = ChatPromptTemplate.from_template(\"\"\"\n",
        "Summarize the following text section concisely:\n",
        "{text}\n",
        "\n",
        "Summary:\n",
        "\"\"\")"
      ],
      "metadata": {
        "id": "qejluszyM19C"
      },
      "execution_count": null,
      "outputs": []
    },
    {
      "cell_type": "code",
      "source": [
        "summary_chain = LLMChain(llm=llm, prompt=summary_prompt)\n",
        "chunks = text_splitter.split_text(sample_contract)\n",
        "summaries = [summary_chain.run(text=chunk) for chunk in chunks]\n",
        "print(\"Document summaries:\", summaries)"
      ],
      "metadata": {
        "colab": {
          "base_uri": "https://localhost:8080/"
        },
        "id": "_ZKyctZ2M4VS",
        "outputId": "ebb249dc-cc87-46d7-ad02-fec045c8b132"
      },
      "execution_count": null,
      "outputs": [
        {
          "output_type": "stream",
          "name": "stdout",
          "text": [
            "Document summaries: ['TechCorp Inc. hires John\\u202fSmith as Senior Software Engineer effective\\u202f15\\u202fJan\\u202f2024, paying\\u202f$120\\u202fk/year with health, dental, and 401(k) matching up to\\u202f4\\u202f%. He receives\\u202f20\\u202fvacation days. Either party may end the contract with\\u202f30\\u202fdays’ notice. He is restricted from competing in the same industry within\\u202f50\\u202fmiles for\\u202f6\\u202fmonths.']\n"
          ]
        }
      ]
    },
    {
      "cell_type": "markdown",
      "source": [
        "## Scenario 3: Code Review Assistant\n",
        "\n",
        "### Real-World Application: Automated Code Quality Assessment\n",
        "\n",
        "Let's build a system that reviews code for best practices, bugs, and improvements."
      ],
      "metadata": {
        "id": "tD6RnUb6M-RT"
      }
    },
    {
      "cell_type": "code",
      "source": [
        "# Sample code to review\n",
        "sample_code = '''\n",
        "def calculate_discount(price, discount_percent):\n",
        "    discount = price * discount_percent / 100\n",
        "    final_price = price - discount\n",
        "    return final_price\n",
        "\n",
        "# Usage\n",
        "price = 100\n",
        "result = calculate_discount(price, 20)\n",
        "print(f\"Final price: ${result}\")\n",
        "'''"
      ],
      "metadata": {
        "id": "Fi8G6B7BNAjk"
      },
      "execution_count": null,
      "outputs": []
    },
    {
      "cell_type": "code",
      "source": [
        "# Create code review prompt\n",
        "code_review_prompt = ChatPromptTemplate.from_template(\"\"\"\n",
        "Review the following code and provide:\n",
        "1. Code quality assessment (1-10)\n",
        "2. Potential bugs or issues\n",
        "3. Improvement suggestions\n",
        "4. Best practices recommendations\n",
        "\n",
        "Code:\n",
        "{code}\n",
        "\"\"\")"
      ],
      "metadata": {
        "id": "_pck5EoKNENU"
      },
      "execution_count": null,
      "outputs": []
    },
    {
      "cell_type": "code",
      "source": [
        "code_reviewer = LLMChain(llm=llm, prompt=code_review_prompt)\n",
        "review = code_reviewer.run(code=sample_code)\n",
        "print(review)"
      ],
      "metadata": {
        "colab": {
          "base_uri": "https://localhost:8080/"
        },
        "id": "g5vsmUNpNGwL",
        "outputId": "c5b8186d-bd30-48cc-948c-a7e604e6354b"
      },
      "execution_count": null,
      "outputs": [
        {
          "output_type": "stream",
          "name": "stdout",
          "text": [
            "**1. Code Quality Assessment (1–10)**  \n",
            "**Score: 6/10**\n",
            "\n",
            "The function is short, straightforward, and works for the simple scenario shown.  \n",
            "However, it lacks many of the niceties that modern Python code usually contains: type hints, docstrings, input validation, and proper handling of monetary values.\n",
            "\n",
            "---\n",
            "\n",
            "**2. Potential Bugs / Issues**\n",
            "\n",
            "| Issue | Why it matters | Example scenario |\n",
            "|-------|----------------|------------------|\n",
            "| **No input validation** | Negative prices or discounts greater than 100 % would produce nonsensical results. | `calculate_discount(-50, 10)` → `-55` (should probably raise an error or clamp). |\n",
            "| **Floating‑point arithmetic for money** | Binary floating‑point can produce round‑off errors (`0.1 + 0.2 != 0.3`). | `calculate_discount(0.3, 25)` → `0.22499999999999997` instead of `0.225`. |\n",
            "| **No documentation** | Future readers (or yourself months later) won’t know the intended contract of the function. | Unclear if `discount_percent` is a whole number (e.g., 20 for 20 %) or a decimal (0.20). |\n",
            "| **Hard‑coded currency formatting** (`print(f\"Final price: ${result}\")`) | The function is currency‑agnostic; the print statement forces a dollar sign, which may not be appropriate for all locales. |\n",
            "| **No unit tests** | Without tests you can’t guarantee that future changes don’t break the logic. | A refactor that mistakenly swaps the order of subtraction could go unnoticed. |\n",
            "\n",
            "---\n",
            "\n",
            "**3. Improvement Suggestions**\n",
            "\n",
            "| Area | Recommendation | Example |\n",
            "|------|----------------|---------|\n",
            "| **Type hints & docstring** | Make the function’s contract explicit. | ```python:<br>def calculate_discount(price: Decimal, discount_percent: Decimal) -> Decimal:<br>    \\\"\\\"\\\"Return the price after applying a percentage discount.<br>    <br>    Parameters:<br>        price: Original price (must be ≥ 0).<br>        discount_percent: Discount as a percentage (0 ≤ ≤ 100).<br>    …\\\"\\\"\\\"``` |\n",
            "| **Use `Decimal` for money** | Avoid floating‑point inaccuracies. | `from decimal import Decimal; price = Decimal('100.00')` |\n",
            "| **Input validation** | Raise `ValueError` for out‑of‑range values. | ```python:<br>if price < 0: raise ValueError(\"price must be non‑negative\")``` |\n",
            "| **Return a `Decimal`** | Keep the result in the same numeric type as the input for consistency. | `final_price = price - (price * discount_percent / Decimal('100'))` |\n",
            "| **Unit tests** | Verify expected behavior and edge cases. | ```python:<br>def test_discount():<br>    assert calculate_discount(Decimal('100'), Decimal('20')) == Decimal('80')``` |\n",
            "| **Separate concerns** | Keep the function pure; do not print inside it. | Let the caller format the result. |\n",
            "| **Optional rounding** | Allow callers to specify rounding mode. | `final_price.quantize(Decimal('0.01'), rounding=ROUND_HALF_UP)` |\n",
            "| **Constants** | Define `HUNDRED = Decimal('100')` for clarity. | `discount = price * discount_percent / HUNDRED` |\n",
            "\n",
            "---\n",
            "\n",
            "**4. Best‑Practice Recommendations**\n",
            "\n",
            "1. **Follow PEP 8 & PEP 257**  \n",
            "   * Use snake_case for functions and variables.  \n",
            "   * Write a 2‑line summary in the docstring, followed by a blank line and a more detailed description.\n",
            "\n",
            "2. **Prefer `Decimal` for financial calculations**  \n",
            "   * Import `Decimal` and set an appropriate precision context.\n",
            "\n",
            "3. **Add unit tests (e.g., with `pytest`)**  \n",
            "   * Cover normal, edge, and error cases.  \n",
            "   * Use fixtures for common test values.\n",
            "\n",
            "4. **Make the API explicit**  \n",
            "   * Document whether `discount_percent` is an integer or decimal, and what happens if it is outside 0–100.\n",
            "\n",
            "5. **Separate business logic from presentation**  \n",
            "   * The function should return a numeric value; formatting (currency symbol, locale) belongs in the caller.\n",
            "\n",
            "6. **Consider immutability**  \n",
            "   * The function does not mutate its inputs, which is good practice.\n",
            "\n",
            "7. **Use type‑checking tools**  \n",
            "   * Run `mypy` or `pyright` to catch type mismatches early.\n",
            "\n",
            "8. **Avoid magic numbers**  \n",
            "   * Define `HUNDRED = Decimal('100')` instead of using literal `100`.\n",
            "\n",
            "9. **Error handling**  \n",
            "   * Raise descriptive exceptions (`ValueError`, `TypeError`) instead of silently returning incorrect results.\n",
            "\n",
            "10. **Documentation & Examples**  \n",
            "    * Include a small usage example in the module docstring, showing how to import and call the function.\n",
            "\n",
            "---\n",
            "\n",
            "### Refactored Example\n",
            "\n",
            "```python\n",
            "from decimal import Decimal, ROUND_HALF_UP\n",
            "\n",
            "HUNDRED = Decimal(\"100\")\n",
            "\n",
            "def calculate_discount(price: Decimal, discount_percent: Decimal) -> Decimal:\n",
            "    \"\"\"\n",
            "    Return the price after applying a percentage discount.\n",
            "\n",
            "    Parameters\n",
            "    ----------\n",
            "    price : Decimal\n",
            "        Original price (must be non‑negative).\n",
            "    discount_percent : Decimal\n",
            "        Discount as a percentage (0 ≤ discount_percent ≤ 100).\n",
            "\n",
            "    Returns\n",
            "    -------\n",
            "    Decimal\n",
            "        Final price rounded to two decimal places.\n",
            "\n",
            "    Raises\n",
            "    ------\n",
            "    ValueError\n",
            "        If *price* is negative or *discount_percent* is outside [0, 100].\n",
            "    \"\"\"\n",
            "    if price < 0:\n",
            "        raise ValueError(\"price must be non‑negative\")\n",
            "    if not (Decimal(\"0\") <= discount_percent <= HUNDRED):\n",
            "        raise ValueError(\"discount_percent must be between 0 and 100\")\n",
            "\n",
            "    discount = price * discount_percent / HUNDRED\n",
            "    final_price = price - discount\n",
            "    # Round to 2‑decimal places (typical for currencies)\n",
            "    return final_price.quantize(Decimal(\"0.01\"), rounding=ROUND_HALF_UP)\n",
            "\n",
            "# Example usage\n",
            "if __name__ == \"__main__\":\n",
            "    price = Decimal(\"100.00\")\n",
            "    final = calculate_discount(price, Decimal(\"20\"))\n",
            "    print(f\"Final price: ${final}\")   # => $80.00\n",
            "```\n",
            "\n",
            "This version scores higher on quality, is robust against misuse, and follows modern Python best practices.\n"
          ]
        }
      ]
    },
    {
      "cell_type": "markdown",
      "source": [
        "### Security Code Review"
      ],
      "metadata": {
        "id": "1oqtHQSnNMER"
      }
    },
    {
      "cell_type": "code",
      "source": [
        "# Security-focused code review\n",
        "security_prompt = ChatPromptTemplate.from_template(\"\"\"\n",
        "Perform a security analysis of this code:\n",
        "1. Identify security vulnerabilities\n",
        "2. Check for input validation issues\n",
        "3. Look for potential injection attacks\n",
        "4. Suggest security improvements\n",
        "\n",
        "Code: {code}\n",
        "\"\"\")"
      ],
      "metadata": {
        "id": "fPVJGGxJNN3M"
      },
      "execution_count": null,
      "outputs": []
    },
    {
      "cell_type": "code",
      "source": [
        "security_reviewer = LLMChain(llm=llm, prompt=security_prompt)\n",
        "security_analysis = security_reviewer.run(code=sample_code)\n",
        "print(security_analysis)"
      ],
      "metadata": {
        "colab": {
          "base_uri": "https://localhost:8080/"
        },
        "id": "A2t9dSb9NQTi",
        "outputId": "424617d7-8938-411e-a1dd-70a687e64c3f"
      },
      "execution_count": null,
      "outputs": [
        {
          "output_type": "stream",
          "name": "stdout",
          "text": [
            "## Security Analysis of the Provided Code\n",
            "\n",
            "| # | Issue | Why it matters | Example of misuse | Suggested fix |\n",
            "|---|-------|----------------|-------------------|---------------|\n",
            "| 1 | **No input validation** | The function accepts *any* value for `price` and `discount_percent`.  If an attacker supplies malicious or malformed data, the function can produce nonsensical results or even crash. | `calculate_discount(\"cheap\", -200)` → `TypeError`, `ZeroDivisionError` (if percent > 100 and you later divide by it elsewhere). | *Validate types and ranges.*<br>`if not isinstance(price, (int, float)) or price < 0: raise ValueError(...)`<br>`if not isinstance(discount_percent, (int, float)) or not (0 <= discount_percent <= 100): raise ValueError(...)` |\n",
            "| 2 | **No type checking** | The function is used in an environment where `price` or `discount_percent` might be strings (e.g., from a web form). This leads to *type errors* or *incorrect calculations*. | `calculate_discount(\"50\", \"10\")` → `TypeError: unsupported operand type(s)`. | *Use explicit type conversion* (`price = float(price)`), or guard against strings before calling the function. |\n",
            "| 3 | **No protection against negative discounts** | A negative discount effectively becomes a surcharge, which may be unintended or exploitable. | `calculate_discount(100, -10)` → `110` (double‑charged). | *Enforce non‑negative discount* or cap it at 100%: `if discount_percent < 0: raise ValueError(...)`. |\n",
            "| 4 | **Potential floating‑point precision issues** | For monetary values, floating‑point arithmetic can introduce rounding errors that may be exploited in high‑volume financial systems. | `calculate_discount(10.00, 2.5)` → `9.75` (but may print `9.749999999999999` in some environments). | *Use the `decimal` module* for currency calculations. |\n",
            "| 5 | **No logging or audit trail** | If this function is part of a larger e‑commerce system, lack of audit logs can hinder detection of abuse (e.g., repeatedly applying max discounts). | Attackers could repeatedly call the function via an API endpoint to drain funds. | *Add logging* (`logging.debug(f\"Discount applied: {price} -> {final_price} ({discount_percent}%)\")`) and rate‑limit calls. |\n",
            "| 6 | **No unit tests for edge cases** | Without tests, you risk deploying code that behaves incorrectly under unusual inputs. | No test for `discount_percent > 100` or `price = 0`. | *Write tests* covering numeric boundaries, string inputs, and extreme values. |\n",
            "| 7 | **No separation of concerns** | The function mixes calculation logic with I/O (`print`). In a real application, this could lead to accidental data leakage or side‑effects. | `print(f\"Final price: ${result}\")` may output sensitive data in logs. | *Return the value* and let the caller decide how to display or log it. |\n",
            "| 8 | **No exception handling** | If an exception occurs (e.g., division by zero from a future change), it propagates up and could crash the application. | Future code adds `if discount_percent == 0: raise ZeroDivisionError`. | *Wrap critical operations in try/except* and return a safe error response. |\n",
            "\n",
            "---\n",
            "\n",
            "## Summary of Potential Security Risks\n",
            "\n",
            "| Risk | Impact | Likelihood |\n",
            "|------|--------|------------|\n",
            "| **Unvalidated user input** | Wrong calculations, potential overcharging or undercharging. | High – if input comes from users. |\n",
            "| **Negative or >100% discounts** | Skewed pricing, revenue loss. | Medium. |\n",
            "| **Floating‑point inaccuracies** | Minor rounding errors, but can accumulate. | Medium. |\n",
            "| **No audit trail** | Hard to detect abuse. | Medium. |\n",
            "| **Exposed I/O in function** | Log leakage. | Low. |\n",
            "\n",
            "---\n",
            "\n",
            "## Recommendations & Code Improvements\n",
            "\n",
            "Below is a refactored version that addresses the above issues. It uses the `decimal` module for exact monetary calculations, validates inputs, caps discounts at 100 %, and removes direct I/O from the calculation routine.\n",
            "\n",
            "```python\n",
            "# secure_discount.py\n",
            "\n",
            "from decimal import Decimal, InvalidOperation, ROUND_HALF_UP\n",
            "import logging\n",
            "\n",
            "# Configure logging (in real use, configure this in the application entry point)\n",
            "logging.basicConfig(\n",
            "    level=logging.INFO,\n",
            "    format=\"%(asctime)s %(levelname)s %(message)s\",\n",
            ")\n",
            "\n",
            "def calculate_discount(price, discount_percent):\n",
            "    \"\"\"\n",
            "    Calculate the final price after applying a discount percentage.\n",
            "\n",
            "    Parameters\n",
            "    ----------\n",
            "    price : int | float | str | Decimal\n",
            "        The original price. Must be non‑negative.\n",
            "    discount_percent : int | float | str | Decimal\n",
            "        Discount percentage. Must be between 0 and 100 inclusive.\n",
            "\n",
            "    Returns\n",
            "    -------\n",
            "    Decimal\n",
            "        The price after discount, rounded to 2 decimal places.\n",
            "\n",
            "    Raises\n",
            "    ------\n",
            "    ValueError\n",
            "        If the inputs are not numeric, negative, or out of bounds.\n",
            "    \"\"\"\n",
            "    # Convert inputs to Decimal safely\n",
            "    try:\n",
            "        price_dec = Decimal(str(price))\n",
            "        discount_dec = Decimal(str(discount_percent))\n",
            "    except (InvalidOperation, TypeError) as exc:\n",
            "        logging.error(\"Invalid numeric input: %s\", exc)\n",
            "        raise ValueError(\"price and discount_percent must be numeric\") from exc\n",
            "\n",
            "    # Validation\n",
            "    if price_dec < 0:\n",
            "        raise ValueError(\"price must be non‑negative\")\n",
            "    if not (Decimal(\"0\") <= discount_dec <= Decimal(\"100\")):\n",
            "        raise ValueError(\"discount_percent must be between 0 and 100 inclusive\")\n",
            "\n",
            "    # Compute discount\n",
            "    discount_amount = (price_dec * discount_dec / Decimal(\"100\")).quantize(\n",
            "        Decimal(\"0.01\"), rounding=ROUND_HALF_UP\n",
            "    )\n",
            "    final_price = (price_dec - discount_amount).quantize(\n",
            "        Decimal(\"0.01\"), rounding=ROUND_HALF_UP\n",
            "    )\n",
            "\n",
            "    # Log the calculation (do NOT log in production if price is sensitive)\n",
            "    logging.info(\n",
            "        \"Applied discount: %s%% on %s → %s (discount=%s)\",\n",
            "        discount_dec,\n",
            "        price_dec,\n",
            "        final_price,\n",
            "        discount_amount,\n",
            "    )\n",
            "    return final_price\n",
            "\n",
            "# Usage example (outside the library)\n",
            "if __name__ == \"__main__\":\n",
            "    try:\n",
            "        price_input = input(\"Enter price: \")\n",
            "        discount_input = input(\"Enter discount percent: \")\n",
            "        final = calculate_discount(price_input, discount_input)\n",
            "        print(f\"Final price: ${final}\")\n",
            "    except ValueError as err:\n",
            "        print(f\"Input error: {err}\")\n",
            "```\n",
            "\n",
            "### What the Refactor Adds\n",
            "\n",
            "1. **Strict type conversion** – `Decimal(str(value))` ensures that strings like `\"100.00\"` are parsed correctly, and any non‑numeric string raises a clear exception.\n",
            "2. **Range validation** – Price must be ≥ 0; discount must be 0–100 %.\n",
            "3. **Exact arithmetic** – `Decimal` prevents floating‑point inaccuracies; rounding is done to two decimal places with `ROUND_HALF_UP` (standard in finance).\n",
            "4. **Logging** – All calculations are logged at `INFO` level; sensitive data can be omitted or masked in production.\n",
            "5. **Separation of concerns** – The function only performs calculation; I/O is handled by the caller.\n",
            "6. **Error handling** – Clear `ValueError` messages help callers catch and deal with bad input gracefully.\n",
            "\n",
            "---\n",
            "\n",
            "## Quick Checklist for Applying These Fixes\n",
            "\n",
            "- [ ] Validate all external inputs before calling `calculate_discount`.\n",
            "- [ ] Ensure the function is never exposed to untrusted data without validation.\n",
            "- [ ] Use `Decimal` for monetary calculations in production.\n",
            "- [ ] Add unit tests covering:\n",
            "  - Normal cases (e.g., 20 % off $100)\n",
            "  - Edge cases (0 %, 100 %, negative price)\n",
            "  - Invalid types (strings, None)\n",
            "  - Boundary values (price=0, discount=100)\n",
            "- [ ] Configure logging appropriately; avoid logging sensitive data in production.\n",
            "- [ ] Rate‑limit any API endpoint that triggers this calculation to mitigate abuse.\n",
            "\n",
            "By following the above recommendations, the code becomes robust against common security pitfalls such as input tampering, accidental surcharge, and floating‑point inaccuracies that could be exploited in a financial context.\n"
          ]
        }
      ]
    },
    {
      "cell_type": "markdown",
      "source": [
        "## Scenario 4: Content Generation Pipeline\n",
        "\n",
        "### Real-World Application: Marketing Content Creation\n",
        "\n",
        "Let's create a pipeline that generates marketing content for different platforms."
      ],
      "metadata": {
        "id": "8hTELVLcNSoM"
      }
    },
    {
      "cell_type": "code",
      "source": [
        "# Content generation for different platforms\n",
        "platforms = {\n",
        "    \"twitter\": \"Create a Twitter post (280 chars max)\",\n",
        "    \"linkedin\": \"Create a LinkedIn professional post\",\n",
        "    \"blog\": \"Create a blog post introduction\"\n",
        "}"
      ],
      "metadata": {
        "id": "KnoOu_X2NUl7"
      },
      "execution_count": null,
      "outputs": []
    },
    {
      "cell_type": "code",
      "source": [
        "# Base content prompt\n",
        "content_prompt = ChatPromptTemplate.from_template(\"\"\"\n",
        "Create {platform_type} content about: {topic}\n",
        "Target audience: {audience}\n",
        "Tone: {tone}\n",
        "Include relevant hashtags where appropriate.\n",
        "\"\"\")"
      ],
      "metadata": {
        "id": "YlaH2BmQNWrq"
      },
      "execution_count": null,
      "outputs": []
    },
    {
      "cell_type": "code",
      "source": [
        "content_generator = LLMChain(llm=llm, prompt=content_prompt)"
      ],
      "metadata": {
        "id": "1Q9vqEaBNahe"
      },
      "execution_count": null,
      "outputs": []
    },
    {
      "cell_type": "code",
      "source": [
        "# Generate content for multiple platforms\n",
        "topic = \"AI in healthcare\"\n",
        "audience = \"healthcare professionals\"\n",
        "tone = \"professional yet engaging\""
      ],
      "metadata": {
        "id": "Xgh9_TRjNcfS"
      },
      "execution_count": null,
      "outputs": []
    },
    {
      "cell_type": "code",
      "source": [
        "# Generate for different platforms\n",
        "for platform, description in platforms.items():\n",
        "    content = content_generator.run(\n",
        "        platform_type=description,\n",
        "        topic=topic,\n",
        "        audience=audience,\n",
        "        tone=tone\n",
        "    )\n",
        "    print(f\"\\n{platform.upper()} CONTENT:\\n{content}\\n{'-'*50}\")"
      ],
      "metadata": {
        "colab": {
          "base_uri": "https://localhost:8080/"
        },
        "id": "Y8A6cOnhNepr",
        "outputId": "ef9adbc3-9f46-4473-ea4e-d63cf16025c3"
      },
      "execution_count": null,
      "outputs": [
        {
          "output_type": "stream",
          "name": "stdout",
          "text": [
            "\n",
            "TWITTER CONTENT:\n",
            "AI is reshaping diagnostics, personalized medicine, and population health. Real‑time imaging analysis and predictive analytics empower clinicians to make faster, evidence‑based decisions. Embrace AI responsibly to enhance patient outcomes. #AIinHealth #MedTech\n",
            "--------------------------------------------------\n",
            "\n",
            "LINKEDIN CONTENT:\n",
            "🚀 **AI in Healthcare: Transforming Patient Care & Clinical Workflows**  \n",
            "*(For colleagues in medicine, nursing, administration, and allied health)*  \n",
            "\n",
            "In the past year, AI has moved from research labs to bedside, offering tangible benefits across the continuum of care. Here are the key take‑aways that matter to us as frontline professionals:\n",
            "\n",
            "1. **Early & Accurate Diagnostics**  \n",
            "   - Deep‑learning algorithms now detect diabetic retinopathy, lung nodules, and skin cancers with sensitivities that rival, and sometimes exceed, expert radiologists.  \n",
            "   - Real‑time image analysis during procedures (e.g., endoscopy) flags subtle abnormalities the human eye might miss.\n",
            "\n",
            "2. **Personalized Treatment & Precision Medicine**  \n",
            "   - AI‑driven genomics platforms predict drug response and identify optimal dosing, reducing trial‑and‑error in oncology and pharmacotherapy.  \n",
            "   - Predictive models help stratify patients for immunotherapy or targeted therapies based on multi‑omic data.\n",
            "\n",
            "3. **Predictive Analytics & Population Health**  \n",
            "   - Machine‑learning risk scores identify patients at high risk for readmission, sepsis, or falls, enabling proactive interventions.  \n",
            "   - AI dashboards synthesize EHR data to highlight trends, supporting population health initiatives and resource allocation.\n",
            "\n",
            "4. **Workflow Optimization & Clinical Decision Support**  \n",
            "   - Chatbots and virtual assistants triage patient inquiries, freeing clinical staff for complex tasks.  \n",
            "   - AI–enhanced order sets reduce medication errors and improve adherence to evidence‑based guidelines.\n",
            "\n",
            "5. **Telehealth & Remote Monitoring**  \n",
            "   - AI algorithms interpret vitals from wearables, flaging anomalies in real time and prompting early clinician review.  \n",
            "   - Natural‑language processing summarizes patient history, ensuring continuity across care settings.\n",
            "\n",
            "6. **Ethical & Practical Considerations**  \n",
            "   - **Transparency & Explainability** – Clinicians need to understand AI reasoning to trust its recommendations.  \n",
            "   - **Data Privacy & Security** – Robust governance is essential to protect sensitive health information.  \n",
            "   - **Interoperability** – Seamless integration with existing EHRs remains a critical hurdle.\n",
            "\n",
            "---\n",
            "\n",
            "**What’s your experience?**  \n",
            "- Have you integrated AI tools into your practice?  \n",
            "- What successes or challenges have you encountered?  \n",
            "- Which areas do you think hold the most promise for the next 12 months?\n",
            "\n",
            "Let’s share insights, lessons learned, and best practices. Together, we can shape the future of care that’s smarter, safer, and more patient‑centric.  \n",
            "\n",
            "💬 **Comment below or DM to discuss collaborations!**\n",
            "\n",
            "#AIinHealthcare #HealthTech #DigitalHealth #MedicalAI #HealthcareInnovation #DataScience #HealthIT #FutureOfMedicine #PatientCare #ClinicalDecisionSupport #Telehealth #PopulationHealth #PrecisionMedicine\n",
            "--------------------------------------------------\n",
            "\n",
            "BLOG CONTENT:\n",
            "**AI in Healthcare: Transforming Care, Enhancing Outcomes**\n",
            "\n",
            "Artificial intelligence is no longer a distant promise—it's an active participant in today’s clinical environment. From predictive analytics that flag high‑risk patients before a crisis to computer‑vision algorithms that read chest X‑rays in seconds, AI is reshaping how we diagnose, treat, and monitor disease. For clinicians, the challenge is not whether AI will be adopted, but how to integrate these tools into workflows that respect patient privacy, regulatory standards, and the art of bedside care.\n",
            "\n",
            "In this post, we’ll examine the most impactful AI applications in hospitals and primary care, evaluate real‑world evidence for improved outcomes, and discuss the practical steps needed to implement and govern AI solutions safely. Whether you’re a chief medical officer, a frontline provider, or a data scientist working in health, understanding both the opportunities and the pitfalls of AI will help you lead your organization into the next era of precision medicine.\n",
            "\n",
            "*Join the conversation and share your experiences: #AIinHealthcare #HealthTech #DigitalHealth #MedTech #HealthcareInnovation*\n",
            "--------------------------------------------------\n"
          ]
        }
      ]
    },
    {
      "cell_type": "markdown",
      "source": [
        "### Content Optimization Chain"
      ],
      "metadata": {
        "id": "83-EMEzXNjYS"
      }
    },
    {
      "cell_type": "code",
      "source": [
        "# Create content optimization chain\n",
        "optimization_prompt = ChatPromptTemplate.from_template(\"\"\"\n",
        "Optimize this content for better engagement:\n",
        "1. Make it more compelling\n",
        "2. Add emotional hooks\n",
        "3. Include call-to-action\n",
        "4. Improve readability\n",
        "\n",
        "Original content: {content}\n",
        "\"\"\")"
      ],
      "metadata": {
        "id": "2jNBYEeHNlgM"
      },
      "execution_count": null,
      "outputs": []
    },
    {
      "cell_type": "code",
      "source": [
        "optimizer = LLMChain(llm=llm, prompt=optimization_prompt)\n",
        "sample_content = \"Our new product uses AI to help doctors.\"\n",
        "optimized = optimizer.run(content=sample_content)\n",
        "print(optimized)"
      ],
      "metadata": {
        "colab": {
          "base_uri": "https://localhost:8080/"
        },
        "id": "Ll97EPlMNnhY",
        "outputId": "df9c8a1e-be94-4092-ebff-dfc484076fa9"
      },
      "execution_count": null,
      "outputs": [
        {
          "output_type": "stream",
          "name": "stdout",
          "text": [
            "**Transform the way you care for patients**  \n",
            "\n",
            "Imagine a tool that instantly sifts through mountains of data, flags the subtle red‑flags you might miss, and gives you the confidence to make the right decision—faster. Our new AI‑powered platform does just that, freeing up your time so you can focus on what truly matters: your patients.  \n",
            "\n",
            "- **Save hours each week** – let the AI handle the heavy lifting of data analysis.  \n",
            "- **Catch early warning signs** – get real‑time alerts that help prevent complications.  \n",
            "- **Elevate patient outcomes** – deliver evidence‑based care with pinpoint accuracy.  \n",
            "\n",
            "Feel the relief of less paperwork, more patient smiles, and a clearer path to better health.  \n",
            "\n",
            "**Ready to experience the difference?**  \n",
            "👉 **Book a free, no‑commitment demo today** and see how our AI can become your new best ally.  \n",
            "\n",
            "*(Slots are limited—reserve yours now!* )\n"
          ]
        }
      ]
    },
    {
      "cell_type": "markdown",
      "source": [
        "## Scenario 5: Data Analysis & Insights\n",
        "\n",
        "### Real-World Application: Sales Data Analysis\n",
        "\n",
        "Let's create a system that analyzes sales data and provides business insights."
      ],
      "metadata": {
        "id": "mYp3oVekNpXS"
      }
    },
    {
      "cell_type": "code",
      "source": [
        "# Sample sales data\n",
        "import pandas as pd\n",
        "sales_data = {\n",
        "    'month': ['Jan', 'Feb', 'Mar', 'Apr', 'May'],\n",
        "    'revenue': [50000, 65000, 45000, 70000, 80000],\n",
        "    'customers': [200, 250, 180, 280, 320]\n",
        "}\n",
        "df = pd.DataFrame(sales_data)"
      ],
      "metadata": {
        "id": "4_OnrXoxNrt0"
      },
      "execution_count": null,
      "outputs": []
    },
    {
      "cell_type": "code",
      "source": [
        "# Convert data to text for analysis\n",
        "data_summary = df.to_string()\n",
        "print(\"Sales Data:\")\n",
        "print(data_summary)"
      ],
      "metadata": {
        "colab": {
          "base_uri": "https://localhost:8080/"
        },
        "id": "8O_d5KznNtor",
        "outputId": "8cd000a6-d24f-4fb4-e9e3-bcb5754209d0"
      },
      "execution_count": null,
      "outputs": [
        {
          "output_type": "stream",
          "name": "stdout",
          "text": [
            "Sales Data:\n",
            "  month  revenue  customers\n",
            "0   Jan    50000        200\n",
            "1   Feb    65000        250\n",
            "2   Mar    45000        180\n",
            "3   Apr    70000        280\n",
            "4   May    80000        320\n"
          ]
        }
      ]
    },
    {
      "cell_type": "code",
      "source": [
        "# Create data analysis prompt\n",
        "analysis_prompt = ChatPromptTemplate.from_template(\"\"\"\n",
        "Analyze this sales data and provide:\n",
        "1. Key trends and patterns\n",
        "2. Month-over-month growth analysis\n",
        "3. Customer acquisition insights\n",
        "4. Recommendations for improvement\n",
        "5. Predicted next month performance\n",
        "\n",
        "Data:\n",
        "{data}\n",
        "\"\"\")"
      ],
      "metadata": {
        "id": "-0n-2WX3NwM5"
      },
      "execution_count": null,
      "outputs": []
    },
    {
      "cell_type": "code",
      "source": [
        "data_analyzer = LLMChain(llm=llm, prompt=analysis_prompt)\n",
        "insights = data_analyzer.run(data=data_summary)\n",
        "print(insights)"
      ],
      "metadata": {
        "colab": {
          "base_uri": "https://localhost:8080/"
        },
        "id": "L5tGUzM6NyQT",
        "outputId": "d43063ac-a685-4982-cd57-8887aa4e960f"
      },
      "execution_count": null,
      "outputs": [
        {
          "output_type": "stream",
          "name": "stdout",
          "text": [
            "**1. Key Trends & Patterns**\n",
            "\n",
            "| Month | Revenue | Customers | Revenue Growth % | Customer Growth % |\n",
            "|-------|--------|-----------|------------------|-------------------|\n",
            "| Jan   | $50,000 | 200 | – | – |\n",
            "| Feb   | $65,000 | 250 | **+30 %** | **+25 %** |\n",
            "| Mar   | $45,000 | 180 | **‑30.8 %** | **‑28 %** |\n",
            "| Apr   | $70,000 | 280 | **+55.6 %** | **+55.6 %** |\n",
            "| May   | $80,000 | 320 | **+14.3 %** | **+14.3 %** |\n",
            "\n",
            "**Observations**\n",
            "\n",
            "1. **Revenue & Customer Movements Co‑Shaped** – Every month’s revenue swing closely mirrors the customer swing, suggesting that most revenue variability comes from volume changes rather than price/average order value (AOV) changes.\n",
            "2. **Quarter‑over‑Quarter Volatility** – A sharp dip in March (‑30 %) followed by a robust rebound in April (≈+55 %) points to a cyclical pattern—perhaps a seasonal dip (e.g., end‑of‑Q1 slowdown) and a post‑holiday surge.\n",
            "3. **Steady Growth After the Dip** – From April to May, growth slows to a more modest +14 % for both metrics, indicating a potential plateau after the peak.\n",
            "\n",
            "**2. Month‑over‑Month Growth Analysis**\n",
            "\n",
            "| Transition | Revenue Δ | Revenue % | Customers Δ | Customers % |\n",
            "|------------|-----------|-----------|------------|-------------|\n",
            "| Jan → Feb  | +$15,000  | +30 %     | +50        | +25 %       |\n",
            "| Feb → Mar  | –$20,000  | –30.8 %   | –70        | –28 %       |\n",
            "| Mar → Apr  | +$25,000  | +55.6 %   | +100       | +55.6 %     |\n",
            "| Apr → May  | +$10,000  | +14.3 %   | +40        | +14.3 %     |\n",
            "\n",
            "*The magnitude of the March dip and April surge is the most pronounced. The pattern suggests that the business is sensitive to a single, recurring factor (e.g., a campaign, a product launch, or a market event).*\n",
            "\n",
            "**3. Customer Acquisition Insights**\n",
            "\n",
            "- **Acquisition Volume vs. Retention**  \n",
            "  - The number of customers is a pure count, not adjusted for churn. The sharp drop in March could be due to a higher churn rate, a lack of new acquisitions, or both.  \n",
            "  - Revenue per customer (Average Order Value) remains fairly stable:  \n",
            "    - Jan: $250  \n",
            "    - Feb: $260  \n",
            "    - Mar: $250  \n",
            "    - Apr: $250  \n",
            "    - May: $250  \n",
            "\n",
            "  *AOV stability indicates pricing and product mix are consistent; the main driver is the volume of active customers.*\n",
            "\n",
            "- **Customer Lifetime Value (CLV) Potential**  \n",
            "  - If the AOV doesn’t vary, the business can improve CLV by extending customer tenure or upselling.  \n",
            "  - A 5‑month run‑rate of $308,000 revenue from 1,190 customers yields an average revenue per customer of $259. The CLV could be increased by 10‑20 % with a modest churn reduction.\n",
            "\n",
            "**4. Recommendations for Improvement**\n",
            "\n",
            "| Area | Recommendation | Expected Impact |\n",
            "|------|----------------|-----------------|\n",
            "| **Stabilize the March dip** | • Run a targeted retention campaign in late‑Q1 (e.g., loyalty emails, special offers). <br>• Evaluate if a product or service change caused the dip and roll‑back if needed. | Reduce the March dip by 50–70 % → smoother revenue curve. |\n",
            "| **Capitalize on April surge** | • Automate follow‑up upsell emails immediately after purchase. <br>• Offer bundle deals to increase AOV slightly. | Increase April revenue by 5–10 %. |\n",
            "| **Sustain May growth** | • Expand paid‑media targeting to newer customer segments. <br>• Introduce a referral program to boost acquisition cost‑effectively. | Grow May revenue by an additional 5–8 %. |\n",
            "| **Long‑term CLV** | • Introduce a subscription or membership model for core product lines. <br>• Track churn metrics monthly to react quickly. | lift over 12 months. |\n",
            "| **Data & Forecasting** | • Implement a rolling 3‑month moving‑average dashboard for real‑time trend detection. <br>• Use linear regression as a baseline, but incorporate seasonal indices for better forecasting. | Faster anomaly detection → proactive response. |\n",
            "\n",
            "**5. Predicted Next Month (June) Performance**\n",
            "\n",
            "Using a simple linear regression fit (month = 1–5) on the existing data:\n",
            "\n",
            "- **Revenue Forecast**: **$80,800**  \n",
            "- **Customers Forecast**: **327**\n",
            "\n",
            "*Growth from May to June*:  \n",
            "- Revenue: +$0.8 k (~+1 %)  \n",
            "- Customers: +7 (~+2.2 %)\n",
            "\n",
            "These numbers are modest, reflecting the plateau seen in the May data. If the above recommendations are implemented, especially the churn‑reduction and referral program, we could realistically push June revenue up to **$85–90 k** and customers to **340–350**.\n",
            "\n",
            "---\n",
            "\n",
            "### Quick Takeaway\n",
            "\n",
            "- **Revenue and customer volume move together; focus on volume stability.**  \n",
            "- **March’s dip is the biggest pain point; address retention aggressively.**  \n",
            "- **Leverage the April surge to lock in higher AOV and build a referral pipeline.**  \n",
            "- **With churn reduction and upsell, the business can lift both revenue and customer base by 10–15 % over the next 6 months.**\n",
            "\n",
            "Feel free to ask for deeper dives into churn analysis, AOV optimization, or any other KPI you’d like to explore!\n"
          ]
        }
      ]
    },
    {
      "cell_type": "markdown",
      "source": [
        "### Automated Report Generation"
      ],
      "metadata": {
        "id": "wllXAlLSN0ea"
      }
    },
    {
      "cell_type": "code",
      "source": [
        "# Create executive summary generator\n",
        "report_prompt = ChatPromptTemplate.from_template(\"\"\"\n",
        "Create an executive summary report based on this analysis:\n",
        "{analysis}\n",
        "\n",
        "Format as:\n",
        "- Executive Summary (2-3 sentences)\n",
        "- Key Metrics\n",
        "- Action Items\n",
        "- Risk Assessment\n",
        "\"\"\")"
      ],
      "metadata": {
        "id": "xOpQFdBkN2YL"
      },
      "execution_count": null,
      "outputs": []
    },
    {
      "cell_type": "code",
      "source": [
        "report_generator = LLMChain(llm=llm, prompt=report_prompt)\n",
        "executive_report = report_generator.run(analysis=insights)\n",
        "print(\"EXECUTIVE REPORT:\")\n",
        "print(executive_report)"
      ],
      "metadata": {
        "colab": {
          "base_uri": "https://localhost:8080/"
        },
        "id": "U-76ZQsfN5jq",
        "outputId": "ee10ded0-8a36-4ca3-d0ed-85b5012fc5fb"
      },
      "execution_count": null,
      "outputs": [
        {
          "output_type": "stream",
          "name": "stdout",
          "text": [
            "EXECUTIVE REPORT:\n",
            "**Executive Summary**  \n",
            "Revenue and customer volume have been tightly coupled over the past five months, with a sharp March dip followed by a robust April rebound and a modest May plateau. If the outlined retention, upsell, and referral tactics are executed, June revenue could rise to **$85–$90 k** and the customer base to **340–350**, enabling a 10–15 % lift over the next six months.\n",
            "\n",
            "---\n",
            "\n",
            "### Key Metrics  \n",
            "\n",
            "| Metric | Jan | Feb | Mar | Apr | May | Trend |\n",
            "|--------|-----|-----|-----|-----|-----|-------|\n",
            "| Revenue | $50 k | $65 k | $45 k | $70 k | $80 k | +30 % → –30.8 % → +55.6 % → +14.3 % |\n",
            "| Customers | 200 | 250 | 180 | 280 | 320 | +25 % → –28 % → +55.6 % → +14.3 % |\n",
            "| Avg. Order Value | $250 | $260 | $250 | $250 | $250 | Stable |\n",
            "| Revenue per Customer (average) | $250 | $260 | $250 | $250 | $250 | Stable |\n",
            "| Forecast (June) | – | – | – | – | – | Revenue $80.8 k, Customers 327 |\n",
            "\n",
            "*The revenue‑to‑customer ratio remains constant, indicating volume is the primary driver.*\n",
            "\n",
            "---\n",
            "\n",
            "### Action Items  \n",
            "\n",
            "| Area | Recommendation | Anticipated Impact |\n",
            "|------|----------------|--------------------|\n",
            "| **March Dip** | • Deploy a targeted retention campaign (loyalty emails, limited‑time offers). <br>• Audit product/service changes that may have caused the dip and roll back if needed. | Cut the March drop by 50–70 %, smoothing the revenue curve. |\n",
            "| **April Surge** | • Automate post‑purchase upsell emails. <br>• Introduce bundle deals to lift AOV slightly. | Boost April revenue by 5–10 %. |\n",
            "| **May Growth** | • Expand paid‑media to new segments. <br>• Launch a referral program for cost‑effective acquisition. | Grow May revenue by an extra 5–8 %. |\n",
            "| **Long‑Term CLV** | • Pilot a subscription/membership model for core products. <br>• Track churn monthly to react swiftly. | Increase CLV by 10–20 % over 12 months. |\n",
            "| **Data & Forecasting** | • Build a rolling 3‑month moving‑average dashboard. <br>• Incorporate seasonal indices into linear regression for better predictions. | Faster anomaly detection → proactive responses. |\n",
            "\n",
            "---\n",
            "\n",
            "### Risk Assessment  \n",
            "\n",
            "| Risk | Driver | Mitigation |\n",
            "|------|--------|------------|\n",
            "| **Seasonal Volatility** | End‑of‑Q1 slowdown and post‑holiday spike may repeat | Seasonal dashboards; plan buffer inventory/marketing spend. |\n",
            "| **Churn Surge** | Possible hidden churn spike in March | Monthly churn monitoring; quick‑win retention tactics. |\n",
            "| **Campaign Reliance** | Heavy dependence on single campaign for April surge | Diversify acquisition channels; test small pilots. |\n",
            "| **Data Quality** | Inaccurate customer counts or revenue logs could skew insights | Implement data validation checks; reconcile financial & CRM data. |\n",
            "| **Execution Lag** | Delay in implementing recommendations may erode momentum | Prioritize quick‑wind actions; assign owners and deadlines. |\n",
            "\n",
            "---\n",
            "\n",
            "**Bottom line:** Stabilizing March, capitalizing on April, and sustaining May growth through targeted retention, upsell, and referral tactics will position the business for a steady upward trajectory and a healthier customer lifetime value.\n"
          ]
        }
      ]
    },
    {
      "cell_type": "markdown",
      "source": [
        "## Advanced Features\n",
        "\n",
        "### Chain of Thought Reasoning"
      ],
      "metadata": {
        "id": "W6rtjDY7N7di"
      }
    },
    {
      "cell_type": "code",
      "source": [
        "# Complex problem-solving with chain of thought\n",
        "cot_prompt = ChatPromptTemplate.from_template(\"\"\"\n",
        "Solve this business problem step by step:\n",
        "Problem: {problem}\n",
        "\n",
        "Think through this systematically:\n",
        "1. First, identify the key issues\n",
        "2. Then, consider possible solutions\n",
        "3. Finally, recommend the best approach\n",
        "\n",
        "Let's work through this step by step:\n",
        "\"\"\")"
      ],
      "metadata": {
        "id": "XfNlyIvLN-VM"
      },
      "execution_count": null,
      "outputs": []
    },
    {
      "cell_type": "code",
      "source": [
        "cot_chain = LLMChain(llm=llm, prompt=cot_prompt)\n",
        "problem = \"Our customer acquisition cost has increased 40% while retention dropped 15%\"\n",
        "solution = cot_chain.run(problem=problem)\n",
        "print(solution)"
      ],
      "metadata": {
        "colab": {
          "base_uri": "https://localhost:8080/"
        },
        "id": "y-VH1uZOOAYT",
        "outputId": "0e810b22-f1f2-41c4-aa5e-56b2b47bd1f0"
      },
      "execution_count": null,
      "outputs": [
        {
          "output_type": "stream",
          "name": "stdout",
          "text": [
            "## 1. Identify the Key Issues  \n",
            "\n",
            "| Category | What’s Happening | Why It Matters | Immediate Questions |\n",
            "|----------|------------------|----------------|---------------------|\n",
            "| **Customer Acquisition Cost (CAC)** | ↑ 40% in the last period | Higher CAC erodes profit margins; the business is spending more to grow the same (or smaller) customer base. | • Which channels drove the spike?<br>• Are bids, targeting or creative quality deteriorating?<br>• Is the sales cycle longer now? |\n",
            "| **Retention / Churn** | Drop of 15% in retained customers | Losing customers costs far more than acquiring new ones; a 15% drop can wipe out the new growth you’re trying to achieve. | • At what stage in the lifecycle are customers leaving?<br>• Are there product, service or pricing pain points?<br>• How does churn compare with industry benchmarks? |\n",
            "| **Customer Lifetime Value (LTV)** | Likely falling (or stagnating) | If LTV is not keeping pace with CAC, the business model is unsustainable. | • What is the current LTV:CAC ratio?<br>• Are upsell/cross‑sell opportunities being missed? |\n",
            "| **Marketing & Sales Efficiency** | Possible mis‑alignment or dilution | Over‑spending on acquisition without the same focus on nurturing can lead to a “volume‑only” strategy. | • Are acquisition funnels optimized?<br>• Is there a robust lead‑to‑customer conversion process? |\n",
            "| **Competitive Landscape** | Competitors may be pulling customers | If competitors offer better pricing, features or experience, they’ll steal both new and existing customers. | • What are competitors’ CAC and churn rates?<br>• Are they launching new features/price points? |\n",
            "\n",
            "**Bottom line:**  \n",
            "- **CAC is up** → increased spend per new customer.  \n",
            "- **Retention is down** → existing customers are leaving faster.  \n",
            "- The combined effect is a shrinking profit margin and a hollowed‑out pipeline.\n",
            "\n",
            "---\n",
            "\n",
            "## 2. Consider Possible Solutions  \n",
            "\n",
            "### A. Reduce or Re‑allocate Acquisition Spend  \n",
            "| Tactic | How It Helps | Risks / Caveats |\n",
            "|--------|--------------|-----------------|\n",
            "| **Channel Optimization** – shift budget from high‑cost, low‑quality channels to lower‑cost, high‑quality ones (e.g., SEO, content, organic social, referral). | Cuts CAC while preserving volume. | May take time to re‑educate teams; risk of missing niche audiences. |\n",
            "| **Targeting & Segmentation Refinement** – deep dive into buyer personas, use look‑alike audiences, retargeting. | Improves conversion rates, reduces wasted spend. | Requires robust data and analytics; mis‑segmentation can backfire. |\n",
            "| **Creative & Messaging Refresh** – test A/B on copy, visuals, offers. | Higher CTR & CVR → lower CAC. | Needs creative resources & testing infrastructure. |\n",
            "| **Partnerships & Co‑marketing** – collaborate with complementary brands. | Shared audience, lower per‑lead cost. | Requires alignment of goals & brand fit. |\n",
            "| **Referral & Incentive Programs** – reward existing customers for bringing new ones. | CAC becomes essentially free; also boosts retention. | Needs a solid referral pipeline and tracking. |\n",
            "| **Optimize Paid Media Bidding** – use CPA bidding, day‑parting, look‑back windows. | Reduces cost per acquisition. | Requires constant monitoring and optimization. |\n",
            "\n",
            "### B. Strengthen Retention & Reduce Churn  \n",
            "| Tactic | How It Helps | Risks / Caveats |\n",
            "|--------|--------------|-----------------|\n",
            "| **Onboarding Experience** – automated check‑ins, tutorial videos, “first‑use” incentives. | Improves early engagement → lower churn. | Requires content creation and tech integration. |\n",
            "| **Customer Success & Support** – proactive outreach, dedicated success managers. | Early issue resolution → higher satisfaction. | Resource‑intensive; may not scale well. |\n",
            "| **Product‑Market Fit Review** – gather feedback, iterate features that matter. | Aligns product with customer needs → reduces churn. | Time‑consuming; risk of mis‑prioritization. |\n",
            "| **Personalized Engagement** – segmentation, behavioral triggers, upsell offers. | Increases perceived value and loyalty. | Needs data infrastructure and governance. |\n",
            "| **Loyalty & Rewards Programs** – tiered benefits, exclusive content. | Encourages repeat usage and referrals. | Cost of rewards vs. incremental value. |\n",
            "| **Pricing & Packaging Review** – value‑based pricing, bundle options. | Aligns costs with perceived value → reduces churn. | Risk of alienating price‑sensitive segments. |\n",
            "\n",
            "### C. Enhance LTV & Revenue per Customer  \n",
            "| Tactic | How It Helps | Risks / Caveats |\n",
            "|--------|--------------|-----------------|\n",
            "| **Cross‑sell / Upsell** – targeted offers, bundles. | Increases average revenue per user (ARPU). | Must be relevant; otherwise triggers churn. |\n",
            "| **Subscription Tier Optimization** – create mid‑tier options. | Captures price‑sensitive customers at higher LTV. | Complexity in pricing & support. |\n",
            "| **Predictive Analytics** – churn prediction models to target at‑risk customers. | Allows proactive retention interventions. | Requires data quality and ML expertise. |\n",
            "\n",
            "### D. Improve Measurement & Governance  \n",
            "| Tactic | How It Helps | Risks / Caveats |\n",
            "|--------|--------------|-----------------|\n",
            "| **Cohort Analysis** – track acquisition vs. churn over time. | Pinpoints where drop‑offs occur. | Requires robust data pipelines. |\n",
            "| **Dashboarding & OKRs** – real‑time CAC, churn, LTV metrics. | Enables rapid response to trends. | Risk of chasing vanity metrics if not aligned. |\n",
            "| **Cross‑functional Alignment** – product, marketing, sales, finance. | Ensures initiatives are coordinated. | Requires cultural shift & regular cadence. |\n",
            "\n",
            "---\n",
            "\n",
            "## 3. Recommendation – A Dual‑Track, Data‑Driven Approach  \n",
            "\n",
            "| Phase | Objective | Key Actions | Success Metrics |\n",
            "|-------|-----------|-------------|-----------------|\n",
            "| **Phase 1 – Immediate Cost Containment (0–3 months)** | Cut CAC while maintaining volume | 1️⃣ Audit all acquisition channels → re‑allocate to high‑ROI channels.<br>2️⃣ Implement A/B on creatives & copy.<br>3️⃣ Launch a referral program tied to a small incentive.<br>4️⃣ Adjust bidding strategy to CPA/ROAS targets. | • CAC↓ 15‑20%<br>• ROAS↑ 10%<br>• Retained volume ≥ current level |\n",
            "| **Phase 2 – Retention & LTV Boost (3–9 months)** | Reduce churn, increase LTV | 1️⃣ Redesign onboarding flow with automated check‑ins.<br>2️⃣ Deploy a predictive churn model → proactive outreach.<br>3️⃣ Introduce a tiered loyalty program.<br>4️⃣ Conduct a quarterly product‑market fit survey & iterate. | • Churn↓ 10‑12%<br>• LTV:CAC ratio ≥ 3:1<br>• NPS↑ 5 pts |\n",
            "| **Phase 3 – Continuous Optimization (9 months +)** | Sustain growth, refine strategy | 1️⃣ Set up cohort dashboards; hold monthly “data‑driven strategy” meetings.<br>2️⃣ Test new acquisition channels (e.g., podcasts, influencer).<br>3️⃣ Regularly review pricing & packaging to align with value.<br>4️⃣ Scale successful retention tactics to new segments. | • CAC & churn trend flat or improving<br>• Revenue growth ≥ 12% YoY<br>• Customer satisfaction ≥ target threshold |\n",
            "\n",
            "### Why This Works  \n",
            "1. **Immediate Spend Control** – You address the 40% CAC spike quickly, preventing further margin erosion.  \n",
            "2. **Parallel Retention Effort** – By tackling churn at the same time, you protect the customer base that will be the foundation for long‑term LTV.  \n",
            "3. **Data‑Driven Feedback Loop** – Cohort analysis and dashboards ensure that every tweak is measured and validated.  \n",
            "4. **Scalable, Sustainable Growth** – Once the “cost‑efficient acquisition + high‑retention” model is proven, you can reinvest the margin gains into product and market expansion.  \n",
            "\n",
            "### Implementation Checklist  \n",
            "- **Assign a Project Owner** (e.g., VP of Growth or Head of Customer Success).  \n",
            "- **Set Clear OKRs** (e.g., CAC ≤ $X, churn ≤ Y%).  \n",
            "- **Secure Budget for Analytics & Tech** (e.g., churn prediction tools, onboarding platform).  \n",
            "- **Schedule Monthly Review Cadence** with key stakeholders (marketing, product, finance).  \n",
            "- **Communicate Changes Internally** so every team understands the new priorities and metrics.  \n",
            "\n",
            "**Final Verdict** – Adopt the dual‑track plan: **Optimize acquisition spend immediately** while **launching a comprehensive retention strategy**. This balanced approach will curb the rising CAC, reverse the churn decline, and ultimately restore a healthy LTV:CAC ratio, paving the way for sustainable growth.\n"
          ]
        }
      ]
    },
    {
      "cell_type": "markdown",
      "source": [
        "### Multi-Agent Workflow"
      ],
      "metadata": {
        "id": "nn5sHF7YOC5h"
      }
    },
    {
      "cell_type": "code",
      "source": [
        "# Create different \"expert\" agents\n",
        "experts = {\n",
        "    \"marketing\": \"You are a marketing expert focused on customer acquisition and brand strategy.\",\n",
        "    \"finance\": \"You are a finance expert focused on cost optimization and revenue growth.\",\n",
        "    \"operations\": \"You are an operations expert focused on efficiency and process improvement.\"\n",
        "}"
      ],
      "metadata": {
        "id": "pJtN0gqHOFIP"
      },
      "execution_count": null,
      "outputs": []
    },
    {
      "cell_type": "code",
      "source": [
        "# Get insights from different experts\n",
        "def get_expert_opinion(expert_type, question):\n",
        "    expert_prompt = ChatPromptTemplate.from_template(f\"\"\"\n",
        "    {experts[expert_type]}\n",
        "\n",
        "    Question: {{question}}\n",
        "\n",
        "    Provide your expert opinion and specific recommendations:\n",
        "    \"\"\")\n",
        "    expert_chain = LLMChain(llm=llm, prompt=expert_prompt)\n",
        "    return expert_chain.run(question=question)"
      ],
      "metadata": {
        "id": "4h4qK6kHOG9L"
      },
      "execution_count": null,
      "outputs": []
    },
    {
      "cell_type": "code",
      "source": [
        "# Consult multiple experts\n",
        "business_question = \"How should we respond to a 20% increase in customer churn?\"\n",
        "for expert in experts.keys():\n",
        "    opinion = get_expert_opinion(expert, business_question)\n",
        "    print(f\"\\n{expert.upper()} EXPERT OPINION:\")\n",
        "    print(opinion)\n",
        "    print(\"-\" * 60)"
      ],
      "metadata": {
        "colab": {
          "base_uri": "https://localhost:8080/"
        },
        "id": "yWm0kYXoOJp6",
        "outputId": "48ad685e-cf2f-46ff-91b4-62493de1b398"
      },
      "execution_count": null,
      "outputs": [
        {
          "output_type": "stream",
          "name": "stdout",
          "text": [
            "\n",
            "MARKETING EXPERT OPINION:\n",
            "**Executive Summary**  \n",
            "A 20 % surge in churn is a red‑flag that indicates a shift in customer perception, market dynamics, or product/service fit. The response must be **data‑driven, customer‑centric, and tightly integrated with your brand strategy**.  \n",
            "Below is a phased playbook—*Immediate, Short‑Term, and Long‑Term*—that blends tactical retention work with strategic brand positioning to reverse churn, protect revenue, and ultimately fuel sustainable growth.\n",
            "\n",
            "---\n",
            "\n",
            "## 1. Diagnose the Root Causes (Day 1–7)\n",
            "\n",
            "| Action | Why It Matters | How to Do It |\n",
            "|--------|----------------|--------------|\n",
            "| **Collect & analyze churn data** | Pinpoints which segments, channels, or touchpoints are most affected. | Pull churn logs; segment by tenure, cohort, product line, acquisition channel, geography, and support ticket volume. |\n",
            "| **Run exit‑survey & NPS follow‑ups** | Uncovers specific pain points (price, feature gaps, service quality). | Automate a 2‑question exit survey + NPS + an optional “what would keep you?” prompt. |\n",
            "| **Map the customer journey** | Identifies friction points pre‑and post‑purchase. | Use journey‑mapping workshops with sales, support, product, and marketing. |\n",
            "| **Benchmark against competitors** | Confirms whether churn is driven by external shifts. | Track competitor pricing, feature releases, and customer sentiment on social listening platforms. |\n",
            "| **Audit your brand promise** | Detects misalignments between messaging and reality. | Test brand statements vs. customer‑reported experiences. |\n",
            "\n",
            "**Deliverable:** A *Churn Diagnostic Report* with a heat‑map of high‑risk segments and a prioritized list of root causes.\n",
            "\n",
            "---\n",
            "\n",
            "## 2. Immediate Response (Day 1–30)\n",
            "\n",
            "| Initiative | Objective | Key Tactics | KPI |\n",
            "|------------|-----------|------------|-----|\n",
            "| **Crisis‑Communication Campaign** | Re‑establish trust and show ownership. | • Email blast to churned customers offering a “win‑back” discount or free upgrade.<br>• In‑app banner telling users “We’ve heard you—here’s what we’re fixing.” | Win‑back rate, email open/click-through |\n",
            "| **Churn‑Hotline & Live Chat** | Reduce friction for those on the edge. | • Dedicated support queue for churn‑risk accounts.<br>• 24/7 live chat for rapid issue resolution. | Avg. response time, churn‑risk resolution rate |\n",
            "| **Retention Playbook Roll‑out** | Deploy a proven framework across teams. | • Train sales, support, and marketing on “Retention First” scripts.<br>• Provide templates for personalized retention offers. | % of accounts receiving a retention offer |\n",
            "| **Promotional “Loyalty Credit”** | Immediate incentive to stay. | • Offer a 10–15 % discount for the next billing cycle to high‑risk accounts. | Reduction in churn rate for targeted group |\n",
            "| **Early‑Warning Dashboard** | Detect future churn spikes. | • Build a live churn‑scorecard (predictive analytics + manual flagging). | Monthly churn trend accuracy |\n",
            "\n",
            "**Result:** A 5‑10 % churn reduction in the first month, buying time for deeper initiatives.\n",
            "\n",
            "---\n",
            "\n",
            "## 3. Short‑Term Strategy (Month 1–6)\n",
            "\n",
            "### A. Product & Experience Improvements\n",
            "\n",
            "| Initiative | Action | KPI |\n",
            "|------------|--------|-----|\n",
            "| **Feature Gap Analysis** | Close the product gaps identified in diagnostics. | Feature adoption rate; % of high‑risk cohort using new feature |\n",
            "| **Onboarding Revamp** | Ensure every new customer gets a “value‑first” experience. | Time‑to‑first‑value (TTFV); onboarding completion rate |\n",
            "| **Support Ticket Resolution** | Lower friction in issue resolution. | First‑contact resolution rate; CSAT > 90% |\n",
            "\n",
            "### B. Personalised Retention & Upsell\n",
            "\n",
            "| Initiative | Action | KPI |\n",
            "|------------|--------|-----|\n",
            "| **Predictive Retention Offers** | Use churn‑score to send tailored incentives. | Offer acceptance rate; incremental ARPU |\n",
            "| **Cross‑Sell/Upgrade Bundles** | Bundle complementary products at a discount. | Bundle uptake; revenue per user (RPU) |\n",
            "| **Content‑Based Nurture** | Deliver micro‑learning and win‑back content. | Video completion rate; engagement lift |\n",
            "\n",
            "### C. Brand Positioning & Messaging\n",
            "\n",
            "| Initiative | Action | KPI |\n",
            "|------------|--------|-----|\n",
            "| **Value‑Reaffirmation Campaign** | Highlight ROI, community impact, or sustainability promise. | Brand sentiment lift; brand awareness lift |\n",
            "| **Storytelling Refresh** | Publish case studies, user‑generated content, and behind‑the‑scenes stories. | Social engagement; brand sentiment |\n",
            "| **Co‑Branding with Influencers** | Leverage trusted voices to reinforce brand credibility. | Referral traffic; influencer‑driven sign‑ups |\n",
            "\n",
            "### D. Acquisition‑Retention Symbiosis\n",
            "\n",
            "| Initiative | Action | KPI |\n",
            "|------------|--------|-----|\n",
            "| **Referral Program** | Convert loyal users into brand advocates. | Referral conversion rate; CAC reduction |\n",
            "| **Retention‑Optimised Paid Media** | Use high‑LTV segments as target audience for paid campaigns. | Cost per retention lead; ROAS on retention‑centric ads |\n",
            "| **Lifecycle‑ Messaging** | Align acquisition funnels with retention signals (e.g., “Welcome, you’re on the right track”). | Funnel conversion; churn‑predictive cohort retention |\n",
            "\n",
            "**Outcome:** A 15–20 % churn decline by the 6‑month mark, while simultaneously improving LTV and lowering CAC.\n",
            "\n",
            "---\n",
            "\n",
            "## 4. Long‑Term Transformation (Month 6–24)\n",
            "\n",
            "### 1. Institutionalise a “Customer‑First Culture”\n",
            "\n",
            "| Focus | Actions | KPI |\n",
            "|-------|---------|-----|\n",
            "| **Voice‑of‑Customer (VoC) Program** | Monthly pulse surveys, deep dives, and quick wins. | VoC score; issue resolution time |\n",
            "| **Cross‑Functional “Customer Health Office”** | Dedicated team for churn analytics, retention strategy, brand alignment. | Churn trend stability; health‑score accuracy |\n",
            "| **Employee Advocacy** | Train staff to champion brand values and customer success. | Internal NPS; employee‑led referral traffic |\n",
            "\n",
            "### 2. Brand Evolution\n",
            "\n",
            "| Initiative | Action | KPI |\n",
            "|------------|--------|-----|\n",
            "| **Re‑positioning Playbook** | Shift from “product‑centric” to “solution‑centric” messaging. | Brand perception survey; market share lift |\n",
            "| **Experience‑First Design** | Adopt a design system that ensures consistency across touchpoints. | UX metrics (task success rate); brand equity score |\n",
            "| **Community & Ecosystem** | Build a community hub, partner network, and developer ecosystem. | Community growth; partner‑driven revenue |\n",
            "\n",
            "### 3. Advanced Analytics & AI\n",
            "\n",
            "| Initiative | Action | KPI |\n",
            "|------------|--------|-----|\n",
            "| **Predictive Churn Model** | Build a model that flags churn risk 30 days before it happens. | Model precision/recall; churn prevention rate |\n",
            "| **Personalization Engine** | Deliver hyper‑personalized offers, content, and pricing. | Avg. revenue per personalization event; engagement lift |\n",
            "| **AI‑Powered Support** | Deploy chatbots with escalation logic. | First‑contact resolution; CSAT |\n",
            "\n",
            "### 4. Sustainable Growth Levers\n",
            "\n",
            "| Initiative | Action | KPI |\n",
            "|------------|--------|-----|\n",
            "| **Global Expansion** | Enter new markets with tailored brand positioning. | New‑market CAC; market share |\n",
            "| **Product Innovation Pipeline** | Co‑create with high‑LTV customers. | Innovation adoption rate; pipeline velocity |\n",
            "| **Strategic Partnerships** | Bundle with complementary services or platforms. | Co‑marketing ROI; joint customer acquisition |\n",
            "\n",
            "---\n",
            "\n",
            "## 5. Measurement & Governance\n",
            "\n",
            "| Metric | Target | Frequency |\n",
            "|--------|--------|-----------|\n",
            "| **Monthly Churn Rate** | < 5 % (industry benchmark) | Monthly |\n",
            "| **Net Promoter Score (NPS)** | > +30 | Quarterly |\n",
            "| **Customer Lifetime Value (CLV)** | +25 % YoY | Quarterly |\n",
            "| **Customer Acquisition Cost (CAC)** | ≤ 30 % of CLV | Quarterly |\n",
            "| **Brand Sentiment** | +10 % positive sentiment | Quarterly |\n",
            "| **Retention Offer Acceptance** | ≥ 35 % | Monthly |\n",
            "\n",
            "**Governance:**  \n",
            "- **Retention Steering Committee** (Sales, Marketing, Product, Support, Finance).  \n",
            "- **Quarterly Health Check** (review dashboards, adjust tactics).  \n",
            "- **Annual Brand Review** (re‑evaluate positioning, messaging, and community assets).\n",
            "\n",
            "---\n",
            "\n",
            "## 6. Quick Wins Checklist (First 30 Days)\n",
            "\n",
            "1. **Automate exit‑surveys** + NPS.  \n",
            "2. **Launch a “win‑back” email** with a limited‑time discount.  \n",
            "3. **Create a churn‑scorecard** in BI tool.  \n",
            "4. **Set up a dedicated churn‑hotline**.  \n",
            "5. **Publish a brand‑story video** that highlights customer impact.  \n",
            "6. **Kick‑off a referral program** with an instant reward for both referrer and referee.  \n",
            "7. **Schedule a cross‑functional “Retention Sprint”** to map out the next 90‑day plan.\n",
            "\n",
            "---\n",
            "\n",
            "### Bottom Line\n",
            "\n",
            "A 20 % spike in churn is a signal that you’re no longer delivering the promised value, or that a competitor has pulled ahead.  \n",
            "Treat it as a **brand‑health crisis that demands both tactical firefighting and strategic repositioning**.\n",
            "\n",
            "Implement the phased playbook above, monitor the metrics closely, and iterate quickly.  \n",
            "With a disciplined, data‑driven approach, you’ll not only reverse churn but also build a resilient brand that attracts, keeps, and upsells customers for years to come.\n",
            "------------------------------------------------------------\n",
            "\n",
            "FINANCE EXPERT OPINION:\n",
            "**Executive Summary**  \n",
            "A 20 % jump in churn is a red‑flag event that threatens both revenue stability and future growth prospects.  The response must be **data‑driven, customer‑centric, and cost‑tight**.  Below is a practical, phased playbook that balances immediate revenue protection with long‑term cost optimization.\n",
            "\n",
            "| Phase | Goal | Key Actions | KPI Targets | Time Frame |\n",
            "|-------|------|-------------|-------------|------------|\n",
            "| **1. Rapid Diagnosis** | Identify root causes | • Run a churn‑segmentation analysis (product, geography, tenure, spend tier). <br>• Deploy a short “exit‑survey” to churned accounts. <br>• Use predictive analytics to flag high‑risk accounts. | • Identify at least 3 top contributing factors. <br>• Reach 80 % survey response rate. | 1–2 weeks |\n",
            "| **2. Tactical Retention** | Reduce churn in high‑risk buckets | • Offer targeted win‑back incentives (discount, feature add‑on, dedicated support). <br>• Roll out a “Customer Success” playbook for Tier 1 accounts. <br>• Automate churn‑prevention reminders (usage alerts, renewal nudges). | • Reduce churn in Tier 1 by 60 % of the excess. <br>• Increase win‑back rate to ≥ 30 %. | 3–6 weeks |\n",
            "| **3. Cost‑Optimized Retention** | Tighten CAC/LTV ratio | • Re‑price low‑margin bundles that drive churn. <br>• Re‑allocate marketing spend toward high‑LTV segments (70 % of spend). <br>• Implement a “lifetime value” scoring system to guide upsell. | • CAC payback period ≤ 12 months for high‑LTV accounts. <br>• LTV/CAC > 4:1. | 2–4 months |\n",
            "| **4. Revenue‑Growth Acceleration** | Turn retention into expansion | • Bundle complementary products (cross‑sell) at a 10‑15 % discount. <br>• Launch a referral program that rewards current customers for new sign‑ups. <br>• Introduce a tiered “Premium” plan with advanced analytics that unlocks higher usage. | • NRR (Net Revenue Retention) ≥ 120 % within 12 months. <br>• Expansion revenue share ≥ 25 % of total revenue. | 6–12 months |\n",
            "| **5. Ongoing Optimization Loop** | Institutionalize churn‑management | • Quarterly churn‑review board (CRO, CMO, CS). <br>• Monthly dashboards (Churn %, NRR, CAC, LTV, churn prediction score). <br>• Continuous A/B testing on retention nudges. | • Year‑over‑year churn decline ≥ 5 %. <br>• Maintain churn < 5 % of total active users. | Ongoing |\n",
            "\n",
            "---\n",
            "\n",
            "### 1. Rapid Diagnosis – Why We Need Data First\n",
            "\n",
            "| Action | How It Helps | Tools |\n",
            "|--------|--------------|-------|\n",
            "| **Segmentation** (by Tier, geography, product line) | Pinpoints where churn spikes: e.g., “Tier 2 users in LATAM churn 35 % higher.” | SQL + Tableau / Power BI |\n",
            "| **Exit Survey** (3‑question rapid poll) | Direct feedback on “why” – pricing, feature gaps, support friction. | Typeform / SurveyMonkey |\n",
            "| **Predictive Model** (logistic regression / XGBoost) | Flags *at‑risk* accounts 30 days before churn. | Python (scikit‑learn) + Salesforce CPQ |\n",
            "\n",
            "**Deliverable:** A *Churn Heat Map* and a *Root‑Cause Dashboard* to inform the tactical phase.\n",
            "\n",
            "---\n",
            "\n",
            "### 2. Tactical Retention – Stop the Leaks\n",
            "\n",
            "#### 2.1 Win‑back Campaigns\n",
            "- **Target high‑value churned accounts** (top 20 % of LTV).  \n",
            "- Offer **tier‑specific incentives**:  \n",
            "  - Tier 1: 15 % off for 12 months + dedicated account manager.  \n",
            "  - Tier 2: 10 % off + free migration of data.  \n",
            "  - Tier 3: 5 % off + 2‑week free trial of new feature.  \n",
            "- **Personalize** email subject lines with past usage metrics (“Your 3‑month usage was 150 % above average – we miss you”).\n",
            "\n",
            "#### 2.2 Customer Success Playbook\n",
            "- **Dedicated CSCS (Customer Success Champion Score)**: track CS engagement hours per account.  \n",
            "- **Quarterly Business Reviews (QBRs)** for Tier 1–2.  \n",
            "- **Onboarding Redesign**: 2‑minute video walkthrough for new users to reduce early churn.\n",
            "\n",
            "#### 2.3 Automation & Nudges\n",
            "- **Email/SMS reminders**: “You’re close to hitting your plan limit – upgrade now.”  \n",
            "- **Usage dashboards**: push alerts when usage drops 30 % month‑over‑month.  \n",
            "- **Renewal calendar**: 30‑days‑before‑renewal push with “Renew now” button.\n",
            "\n",
            "---\n",
            "\n",
            "### 3. Cost‑Optimized Retention – Tighten CAC & LTV\n",
            "\n",
            "| Lever | Action | Financial Impact |\n",
            "|-------|--------|------------------|\n",
            "| **Pricing Optimization** | Deploy price elasticity tests for bundles that churn. | +10 % margin on retained accounts |\n",
            "| **Marketing Spend Reallocation** | Shift 30 % from paid media to targeted account‑based marketing (ABM). | CAC reduction 15 % for high‑LTV |\n",
            "| **Upsell Targeting** | Use LTV score to prioritize upsell offers. | +5 % average revenue per account |\n",
            "| **Retention‑based CAC Payback** | Aim for CAC payback < 12 months for Tier 1. | Improves cash flow and reduces debt load |\n",
            "\n",
            "**KPI:** CAC payback ≤ 12 months, LTV/CAC > 4:1, churn‑related cost per account < 5 % of LTV.\n",
            "\n",
            "---\n",
            "\n",
            "### 4. Revenue‑Growth Acceleration – Turning Retention into Expansion\n",
            "\n",
            "#### 4.1 Product Bundles & Cross‑Sell\n",
            "- Bundle complementary modules (e.g., CRM + Analytics) at **10 % discount**.  \n",
            "- Offer a **“Starter” bundle** to lower‑tier users to reduce churn and create upgrade path.\n",
            "\n",
            "#### 4.2 Referral & Loyalty Programs\n",
            "- **$50 credit** for every new sign‑up referred that stays 6 months.  \n",
            "- Tiered loyalty badges (Bronze, Silver, Gold) unlocking incremental benefits.\n",
            "\n",
            "#### 4.3 Premium Tier\n",
            "- **Advanced Analytics** (predictive insights, AI‑driven recommendations).  \n",
            "- **Advanced Support** (24/7 phone + priority tickets).  \n",
            "- **Pricing**: 25 % higher than current Tier 2.  \n",
            "\n",
            "**Target:** NRR ≥ 120 % within 12 months, expansion revenue ≥ 25 % of total.\n",
            "\n",
            "---\n",
            "\n",
            "### 5. Ongoing Optimization Loop – Institutionalizing the Playbook\n",
            "\n",
            "| Component | Frequency | Owner | Success Metric |\n",
            "|-----------|-----------|-------|----------------|\n",
            "| **Churn Review Board** | Quarterly | CRO, CMO, CS | Churn trend < 5 % |\n",
            "| **Dashboard** | Daily | Data Analytics | Real‑time churn score |\n",
            "| **A/B Testing** | Continuous | Growth Team | Win‑back rate improvement |\n",
            "| **Customer Feedback Loop** | Monthly | CS | CSAT > 90 % |\n",
            "\n",
            "---\n",
            "\n",
            "## Bottom Line\n",
            "\n",
            "1. **Diagnose quickly**—segmentation + exit survey + predictive modeling.  \n",
            "2. **Act fast**—targeted win‑back offers, CS playbooks, and automated nudges.  \n",
            "3. **Optimize costs**—re‑price bundles, re‑allocate CAC, and drive upsells to improve LTV/CAC.  \n",
            "4. **Grow revenue**—bundle cross‑sell, premium tier, and referral incentives.  \n",
            "5. **Institutionalize** the process with dashboards, review boards, and continuous testing.\n",
            "\n",
            "By executing this playbook, you should **reduce the churn spike by at least 60 % in the first 3 months** while simultaneously **boosting net revenue retention to 120 %+** and tightening your CAC payback to under a year. This positions the company for sustainable growth without inflating costs.\n",
            "------------------------------------------------------------\n",
            "\n",
            "OPERATIONS EXPERT OPINION:\n",
            "## Executive Summary  \n",
            "A **20 % jump in churn** is a clear signal that something in the customer‑journey ecosystem has broken or degraded.  The fastest path to stabilizing and then reducing churn is to treat the problem as a *process failure* rather than a marketing or product issue alone.  Below is a lean‑operations playbook that blends rapid diagnostics, data‑driven decision‑making, cross‑functional alignment, and continuous improvement.  \n",
            "\n",
            "> **Bottom line:**  \n",
            "> *Act now, iterate fast, and embed churn‑reduction into the operating rhythm.*  \n",
            "\n",
            "---\n",
            "\n",
            "## 1. Diagnose the Root Cause – 48 h Sprint\n",
            "\n",
            "| Step | Action | Owner | Tool/Metric |\n",
            "|------|--------|-------|-------------|\n",
            "| 1 | **Cohort & Funnel Analysis** – Pull 12‑month cohorts, map churn vs. usage, support tickets, renewal dates. | Data Ops | SQL, Looker/Power BI |\n",
            "| 2 | **Customer Health Scoring** – Re‑score existing customers using usage, NPS, support interactions. Identify “at‑risk” buckets. | CRM/Marketing Ops | Health‑Score model |\n",
            "| 3 | **Voice of Customer** – Run automated sentiment analysis on support tickets, social media, and NPS surveys. | Customer Success | Text analytics |\n",
            "| 4 | **Process Bottleneck Scan** – Map the 5‑step renewal workflow; note lag times, hand‑offs, and error rates. | Ops Lead | Process map in Miro |\n",
            "| 5 | **Competitive Benchmark** – Quick benchmark of pricing, feature parity, churn rates of 3 key competitors. | Strategy Ops | Public data, Gartner |\n",
            "| 6 | **Financial Impact** – Calculate churn‑cost (CAC recovery, lost upsell potential). | Finance Ops |  |\n",
            "| Deliverable | 1‑page Root‑Cause Canvas | Ops Lead |  |\n",
            "\n",
            "> **Goal:** Identify the *single* process or product lever that explains >50 % of the churn spike.\n",
            "\n",
            "---\n",
            "\n",
            "## 2. Immediate Tactical Actions – 0‑30 days\n",
            "\n",
            "| Initiative | What | Who | KPI |\n",
            "|------------|------|-----|-----|\n",
            "| **A. “Rapid Retention” Task Force** | 5‑person squad (CS, Sales Ops, Product, Finance) meets daily. | Ops Lead | Churn % (next 30 days) |\n",
            "| **B. Automatic Re‑engagement Campaign** | Trigger personalized email/Push for at‑risk accounts (score < 40). | Marketing Ops | Email open & click % |\n",
            "| **C. “No‑Contact” Policy for Renewals** | Reduce manual renewal calls; push to self‑serve portal + 1‑click renewal. | CS Ops | Renewal portal usage |\n",
            "| **D. Process Quick‑Fixes** | 1) Standardize renewal reminders at 30/15/7 days. 2) Add “support follow‑up” step after ticket closure. | Ops Lead | Ticket resolution time |\n",
            "| **E. Pricing & Bundling Review** | Offer targeted discount for high‑risk plans. | Pricing Ops | Discount uptake |\n",
            "| **F. Feedback Loop** | Set up a real‑time churn dashboard in the Ops Ops tool. | Data Ops | Dashboard completeness |\n",
            "\n",
            "> **Why these?**  \n",
            "> - *Speed*: All items can be rolled out within 30 days.  \n",
            "> - *Low‑Cost*: Mostly process tweaks and existing automation.  \n",
            "> - *Measurement*: Each has a clear KPI that can be tracked daily.  \n",
            "\n",
            "---\n",
            "\n",
            "## 3. Medium‑Term Process Optimization – 30‑90 days\n",
            "\n",
            "| Process | Current State | Target State | Lean Tool | Owner |\n",
            "|---------|---------------|--------------|-----------|-------|\n",
            "| **Onboarding** | 5‑step manual hand‑off | 3‑step automated workflow + video onboarding | Kaizen | Onboarding Ops |\n",
            "| **Renewal Cycle** | 3‑stage manual review | One‑click renewal + AI‑driven renewal alerts | DMAIC | Renewal Ops |\n",
            "| **Support Escalation** | 2‑hour avg for 2% of tickets | 30‑min avg for 1% of tickets | 5S + Error‑Proofing | CS Ops |\n",
            "| **Product Feedback Loop** | Quarterly survey | Continuous in‑app prompts + A/B testing | PDCA | Product Ops |\n",
            "| **Churn Prediction** | 70 % accuracy | 85 % accuracy | Predictive Analytics | Data Ops |\n",
            "\n",
            "> **Implementation Roadmap**  \n",
            "> 1. **Onboarding & Renewal** – Build automated flows in CRM (Salesforce/HubSpot).  \n",
            "> 2. **Support** – Deploy chat‑bot for common issues, escalation matrix.  \n",
            "> 3. **Product** – Set up Jira + Feature‑Flag for rapid A/B releases.  \n",
            "> 4. **Analytics** – Integrate with Snowflake, run ML churn model.  \n",
            "\n",
            "---\n",
            "\n",
            "## 4. Long‑Term Cultural & Structural Changes – 90‑180 days\n",
            "\n",
            "1. **Retention‑First Governance Board**  \n",
            "   *Monthly cross‑functional review of churn metrics, cause lists, and action items.*  \n",
            "\n",
            "2. **Continuous Improvement (CI) Program**  \n",
            "   *Introduce 3‑month “Kaizen sprints” focused on churn reduction.*  \n",
            "\n",
            "3. **Automation & AI**  \n",
            "   *Chat‑bot + virtual assistant for self‑service.  \n",
            "   *Predictive churn alerts in Ops dashboard.*  \n",
            "\n",
            "4. **Customer‑Centric KPI Cadence**  \n",
            "   *Replace “Monthly Active Users” with “Healthy Customer Index” (usage + NPS + Support score).*  \n",
            "\n",
            "5. **Investment in Customer Success Ops**  \n",
            "   *Dedicated CS Ops role to manage retention workflows, data hygiene, and cross‑team alignment.*  \n",
            "\n",
            "---\n",
            "\n",
            "## 5. Measurement & Continuous Learning\n",
            "\n",
            "| Metric | Target | Frequency | Owner |\n",
            "|--------|--------|-----------|-------|\n",
            "| **Churn Rate** | < 5 % YoY | Monthly | Ops Lead |\n",
            "| **Renewal Rate** | > 90 % | Monthly | Renewal Ops |\n",
            "| **Ticket Closure Time** | < 30 min | Weekly | CS Ops |\n",
            "| **Health‑Score Accuracy** | > 85 % | Quarterly | Data Ops |\n",
            "| **Feature Adoption** | 50 % of new releases adopted in 6 weeks | Monthly | Product Ops |\n",
            "| **Retention Campaign ROI** | > 3× CAC | Monthly | Marketing Ops |\n",
            "\n",
            "> **Feedback Loop** – Every sprint ends with a *Lesson Learned* deck that feeds back into the process map.  \n",
            "\n",
            "---\n",
            "\n",
            "## Quick‑Start Checklist\n",
            "\n",
            "| # | Action | Deadline | Status |\n",
            "|---|--------|----------|--------|\n",
            "| 1 | Deploy churn dashboard | Day 1 | ☐ |\n",
            "| 2 | Launch at‑risk email | Day 3 | ☐ |\n",
            "| 3 | Standardize renewal reminders | Day 7 | ☐ |\n",
            "| 4 | Create “Rapid Retention” squad | Day 5 | ☐ |\n",
            "| 5 | Run 30‑day cohort analysis | Day 10 | ☐ |\n",
            "| 6 | Implement 1‑click renewal portal | Day 20 | ☐ |\n",
            "| 7 | Start 5‑step Kaizen on onboarding | Day 15 | ☐ |\n",
            "\n",
            "---\n",
            "\n",
            "## Final Thought  \n",
            "\n",
            "A **20 % churn spike** is a *systemic alert*, not a one‑off marketing failure.  Treat it as a **process defect**: isolate the fault, implement low‑cost quick wins, then build a resilient, data‑driven retention engine.  By embedding churn metrics into every operational layer and driving continuous improvement, you’ll convert churn into a predictable, manageable variable—and ultimately unlock sustainable growth.\n",
            "------------------------------------------------------------\n"
          ]
        }
      ]
    },
    {
      "cell_type": "markdown",
      "source": [
        "### Error Handling and Validation\n"
      ],
      "metadata": {
        "id": "D1BSq2W5OMMb"
      }
    },
    {
      "cell_type": "code",
      "source": [
        "def safe_llm_call(chain, **kwargs):\n",
        "    try:\n",
        "        result = chain.run(**kwargs)\n",
        "        return {\"success\": True, \"result\": result}\n",
        "    except Exception as e:\n",
        "        return {\"success\": False, \"error\": str(e)}"
      ],
      "metadata": {
        "id": "Z-zjs97xOLda"
      },
      "execution_count": null,
      "outputs": []
    },
    {
      "cell_type": "code",
      "source": [
        "# Example with error handling\n",
        "safe_result = safe_llm_call(content_generator,\n",
        "                          platform_type=\"Twitter post\",\n",
        "                          topic=\"Machine Learning\",\n",
        "                          audience=\"developers\",\n",
        "                          tone=\"technical\")\n",
        "print(safe_result)"
      ],
      "metadata": {
        "colab": {
          "base_uri": "https://localhost:8080/"
        },
        "id": "ieBSAP-bOQX9",
        "outputId": "7ffacb9d-250c-4e10-eab0-a724187a3b1b"
      },
      "execution_count": null,
      "outputs": [
        {
          "output_type": "stream",
          "name": "stdout",
          "text": [
            "{'success': True, 'result': 'Optimizing your neural nets? Remember batch normalization reduces internal covariate shift, speeding up convergence. Pair it with Adam and a cosine annealing scheduler for smoother training curves. #MachineLearning #DeepLearning #Python #AI #DataScience #ML'}\n"
          ]
        }
      ]
    },
    {
      "cell_type": "markdown",
      "source": [
        "## Best Practices & Tips\n",
        "\n",
        "### 1. Prompt Engineering Tips\n",
        "- Be specific and clear in your instructions\n",
        "- Use examples when possible\n",
        "- Break complex tasks into smaller steps\n",
        "- Include context and constraints\n",
        "\n",
        "### 2. Performance Optimization\n",
        "- Use appropriate chunk sizes for document processing\n",
        "- Implement caching for repeated queries\n",
        "- Monitor token usage to control costs\n",
        "- Use streaming for real-time applications\n",
        "\n",
        "### 3. Error Handling\n",
        "- Always implement try-catch blocks\n",
        "- Validate inputs before processing\n",
        "- Have fallback responses ready\n",
        "- Log errors for debugging\n",
        "\n",
        "### 4. Security Considerations\n",
        "- Never expose API keys in code\n",
        "- Validate and sanitize user inputs\n",
        "- Implement rate limiting\n",
        "- Use environment variables for sensitive data"
      ],
      "metadata": {
        "id": "6y_SLq7uOT5m"
      }
    }
  ]
}